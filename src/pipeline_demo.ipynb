{
 "cells": [
  {
   "cell_type": "code",
   "execution_count": 1,
   "id": "aed79f1c-2767-4d8d-8988-f7d1cf29ec72",
   "metadata": {
    "tags": []
   },
   "outputs": [],
   "source": [
    "import matplotlib.pyplot as plt\n",
    "import numpy as np\n",
    "import os\n",
    "import random\n",
    "import sys\n",
    "import torch\n",
    "import torch_geometric\n",
    "from torch_geometric.loader import DataLoader\n",
    "from torch_geometric.nn import summary\n",
    "import xarray as xr\n",
    "import yaml\n",
    "\n",
    "import Dataset\n",
    "import Models\n",
    "import Loss\n",
    "from utils import time_func"
   ]
  },
  {
   "cell_type": "code",
   "execution_count": 2,
   "id": "1a033a6e-d7e1-43a4-8556-ec00b1761f6b",
   "metadata": {
    "tags": []
   },
   "outputs": [
    {
     "name": "stdout",
     "output_type": "stream",
     "text": [
      "Torch version: 2.1.0+cu121\n",
<<<<<<< HEAD
      "Cuda available: False\n",
=======
      "Cuda available: True\n",
      "Cuda device: NVIDIA A100-SXM4-40GB\n",
>>>>>>> origin/main
      "Cuda version: 12.1\n",
      "Torch geometric version: 2.3.1\n"
     ]
    }
   ],
   "source": [
    "print(f\"Torch version: {torch.__version__}\")\n",
    "print(f\"Cuda available: {torch.cuda.is_available()}\")\n",
    "if torch.cuda.is_available():\n",
    "    print(f\"Cuda device: {torch.cuda.get_device_name()}\")\n",
    "print(f\"Cuda version: {torch.version.cuda}\")\n",
    "print(f\"Torch geometric version: {torch_geometric.__version__}\")"
   ]
  },
  {
   "cell_type": "code",
   "execution_count": 3,
   "id": "335227eb-02db-4fb9-85a6-4af3562ca297",
   "metadata": {
    "tags": []
   },
   "outputs": [
    {
     "data": {
      "text/plain": [
       "device(type='cuda')"
      ]
     },
     "execution_count": 3,
     "metadata": {},
     "output_type": "execute_result"
    }
   ],
   "source": [
    "DEVICE = torch.device('cuda' if torch.cuda.is_available() else 'cpu')\n",
    "DEVICE"
   ]
  },
  {
   "cell_type": "code",
   "execution_count": 4,
   "id": "32eb1309-2482-472b-aac9-799c45dca7ff",
   "metadata": {
    "tags": []
   },
   "outputs": [],
   "source": [
    "params = yaml.safe_load(open('./config/pipeline.yaml'))\n",
    "\n",
    "DATA_PATH = params['input_subset_pre_processed']\n",
    "MESH_PATH = params['input_subset_grid']\n",
    "\n",
    "DATASET_SIZE = params['dataset_size']\n",
    "\n",
    "TRAIN_PROP = params['train_prop']\n",
    "VAL_PROP = params['val_prop']\n",
    "TEST_PROP = params['test_prop']\n",
    "TRAIN_VAL_TEST = [TRAIN_PROP, VAL_PROP, TEST_PROP]\n",
    "\n",
    "TRAIN_BATCH_SIZE = params['train_batch_size']\n",
    "VAL_BATCH_SIZE = params['val_batch_size']\n",
    "TEST_BATCH_SIZE = params['test_batch_size']\n",
    "\n",
    "N_FEATURES = params['n_features']\n",
    "HID_CHANNELS = params['hid_channels']\n",
    "N_CLASSES = params['n_classes']\n",
    "N_LAYERS = params['n_layers']\n",
    "MODEL_CHOSEN = params['model']\n",
    "\n",
    "FINAL_ACT = None\n",
    "if params['final_act'] == \"sigmoid\":\n",
    "    FINAL_ACT = torch.sigmoid\n",
    "elif params['final_act'] == \"softmax\":\n",
    "    FINAL_ACT = torch.softmax\n",
    "elif params['final_act'] == \"linear\":\n",
    "    FINAL_ACT = torch.nn.Linear(1, 1)\n",
    "\n",
    "LOSS_OP = None\n",
    "if params['loss_op'] == \"CE\":\n",
    "    LOSS_OP = torch.nn.CrossEntropyLoss()\n",
    "elif params['loss_op'] == \"WCE\":\n",
    "    class_weights = [params['loss_weight_1'], params['loss_weight_2'], params['loss_weight_3']]\n",
    "    LOSS_OP = Loss.WeightedCrossEntropyLoss(class_weights, DEVICE)\n",
    "\n",
    "OPTIMIZER = None\n",
    "if params['optimizer'] == \"Adam\":\n",
    "    OPTIMIZER = torch.optim.Adam\n",
    "\n",
    "LEARN_RATE = params['learn_rate']\n",
    "\n",
    "EPOCHS = params['epochs']\n",
    "\n",
    "PLOT_SHOW = params['plot_show']\n",
    "PLOT_FOLDER = params['output_images_path']\n",
    "\n",
    "TIMESTAMP = time_func.start_time()"
   ]
  },
  {
   "cell_type": "markdown",
   "id": "a8009f87-209a-4138-9f7d-9428780d3b3f",
   "metadata": {},
   "source": [
    "### Dataset creation"
   ]
  },
  {
   "cell_type": "code",
   "execution_count": 5,
   "id": "5dcbd3fe-b76f-49eb-9921-24a6013db352",
   "metadata": {
    "tags": []
   },
   "outputs": [
    {
     "name": "stdout",
     "output_type": "stream",
     "text": [
<<<<<<< HEAD
<<<<<<< HEAD
      "Random seed for train-val-test split: 7145\n",
      "    Shape of node feature matrix: torch.Size([239536, 1])\n",
      "    Shape of graph connectivity in COO format: torch.Size([2, 1432160])\n",
      "    Shape of labels: torch.Size([239536])\n",
      "  ---  Datasets creation  ---  0.647 seconds.\n"
=======
      "Random seed for train-val-test split: 8649\n",
||||||| df80ebd
      "Random seed for train-val-test split: 8649\n",
=======
      "Random seed for train-val-test split: 6542\n",
>>>>>>> origin/main
      "    Shape of node feature matrix: torch.Size([239536, 1])\n",
      "    Shape of graph connectivity in COO format: torch.Size([2, 1432160])\n",
      "    Shape of labels: torch.Size([239536])\n",
<<<<<<< HEAD
      "  ---  Datasets creation  ---  3.408 seconds.\n"
>>>>>>> origin/main
||||||| df80ebd
      "  ---  Datasets creation  ---  3.408 seconds.\n"
=======
      "  ---  Datasets creation  ---  2.395 seconds.\n"
>>>>>>> origin/main
     ]
    }
   ],
   "source": [
    "random_seed = random.randint(1, 10000)\n",
    "print(f\"Random seed for train-val-test split: {random_seed}\")\n",
    "\n",
    "timestamp = time_func.start_time()\n",
    "\n",
    "train_dataset = Dataset.EddyDataset(root=DATA_PATH, mesh_path=MESH_PATH, dataset_size=DATASET_SIZE, split='train', proportions=TRAIN_VAL_TEST, random_seed=random_seed)\n",
    "val_dataset = Dataset.EddyDataset(root=DATA_PATH, mesh_path=MESH_PATH, dataset_size=DATASET_SIZE, split='val', proportions=TRAIN_VAL_TEST, random_seed=random_seed)\n",
    "test_dataset = Dataset.EddyDataset(root=DATA_PATH, mesh_path=MESH_PATH, dataset_size=DATASET_SIZE, split='test', proportions=TRAIN_VAL_TEST, random_seed=random_seed)\n",
    "\n",
    "time_func.stop_time(timestamp, \"Datasets creation\")"
   ]
  },
  {
   "cell_type": "code",
   "execution_count": 6,
   "id": "0e716ee0-b006-4e55-a44f-73a6e30de341",
   "metadata": {
    "tags": []
   },
   "outputs": [
    {
     "name": "stdout",
     "output_type": "stream",
     "text": [
      "292 36 37\n"
     ]
    }
   ],
   "source": [
    "print(train_dataset.len(), val_dataset.len(), test_dataset.len())"
   ]
  },
  {
   "cell_type": "markdown",
   "id": "af65efdf-cfde-4feb-8cd3-f240636c1c34",
   "metadata": {},
   "source": [
    "### Testing some parameters and orientation of graph edges"
   ]
  },
  {
   "cell_type": "code",
   "execution_count": 7,
   "id": "764f45a6-dfe7-4fa7-b892-5dbc756db97c",
   "metadata": {
    "tags": []
   },
   "outputs": [],
   "source": [
    "if (TRAIN_PROP+VAL_PROP+TEST_PROP) != 100:\n",
    "    raise ValueError(f\"Sum of train-val-test proportions with value {TRAIN_PROP+VAL_PROP+TEST_PROP} is different from 100\")\n",
    "\n",
    "if FINAL_ACT == None:\n",
    "    raise ValueError(f\"Parameter 'final_act' is invalid with value {params['final_act']}\")\n",
    "\n",
    "if LOSS_OP == None:\n",
    "    raise ValueError(f\"Parameter 'loss_op' is invalid with value {params['loss_op']}\")\n",
    "\n",
    "if OPTIMIZER == None:\n",
    "    raise ValueError(f\"Parameter 'optimizer' is invalid with value {params['optimizer']}\")\n",
    "\n",
    "dummy_graph = train_dataset[0]\n",
    "\n",
    "if dummy_graph.num_features != N_FEATURES:\n",
    "    raise ValueError(f\"Graph num_features is different from parameter N_FEATURES: ({dummy_graph.num_features} != {N_FEATURES})\")\n",
    "\n",
    "if dummy_graph.is_directed():\n",
    "    raise ValueError(\"Graph edges are directed!\")"
   ]
  },
  {
   "cell_type": "markdown",
   "id": "a1b756f7-7799-4dc8-b40a-aaef3b1ce904",
   "metadata": {},
   "source": [
    "### Train-validation-test split"
   ]
  },
  {
   "cell_type": "code",
   "execution_count": 8,
   "id": "0d40cf8d-1eb2-4177-9830-0fac421de7de",
   "metadata": {
    "tags": []
   },
   "outputs": [
    {
     "name": "stdout",
     "output_type": "stream",
     "text": [
      "292 36 37\n"
     ]
    }
   ],
   "source": [
    "train_loader = DataLoader(train_dataset, batch_size=TRAIN_BATCH_SIZE, shuffle=True, num_workers=6, pin_memory=True)\n",
    "val_loader = DataLoader(val_dataset, batch_size=VAL_BATCH_SIZE, shuffle=False, num_workers=6, pin_memory=True)\n",
    "test_loader = DataLoader(test_dataset, batch_size=TEST_BATCH_SIZE, shuffle=False, num_workers=6, pin_memory=True)\n",
    "\n",
    "print(len(train_loader.dataset), len(val_loader.dataset), len(test_loader.dataset))"
   ]
  },
  {
   "cell_type": "markdown",
   "id": "10f3de1d-9864-4536-b634-e05635056e20",
   "metadata": {
    "tags": []
   },
   "source": [
    "### Model instantiation"
   ]
  },
  {
   "cell_type": "code",
   "execution_count": 9,
   "id": "ed6db1ea-a1d4-4793-a665-838c3df37dd7",
   "metadata": {
    "tags": []
   },
   "outputs": [
    {
     "data": {
      "text/plain": [
<<<<<<< HEAD
       "GCNModel(\n",
       "  (conv_layers): ModuleList(\n",
       "    (0): GCNConv(1, 64)\n",
       "    (1-7): 7 x GCNConv(64, 64)\n",
       "    (8): GCNConv(64, 3)\n",
       "  )\n",
||||||| df80ebd
       "GUNet(\n",
       "  (unet): GraphUNet(1, 64, 3, depth=3, pool_ratios=[0.008349475652928996, 0.5, 0.5])\n",
=======
       "GUNet(\n",
       "  (unet): GraphUNet(1, 32, 3, depth=3, pool_ratios=[0.008349475652928996, 0.5, 0.5])\n",
>>>>>>> origin/main
       ")"
      ]
     },
     "execution_count": 9,
     "metadata": {},
     "output_type": "execute_result"
    }
   ],
   "source": [
    "if MODEL_CHOSEN == \"GUNET\": \n",
    "    Model = Models.GUNet\n",
    "\n",
    "    model = Model(\n",
    "        in_channels = N_FEATURES,\n",
    "        hidden_channels = HID_CHANNELS,\n",
    "        out_channels = N_CLASSES,\n",
    "        num_nodes = dummy_graph.num_nodes,   # TODO can put these in Dataset.py\n",
    "        final_act = FINAL_ACT\n",
    "    ).to(DEVICE)\n",
    "elif MODEL_CHOSEN == \"GCN\":\n",
    "    Model = Models.GCNModel\n",
    "\n",
    "    model = Model(\n",
    "        in_channels = N_FEATURES,\n",
    "        hidden_channels = HID_CHANNELS,\n",
    "        out_channels = N_CLASSES,\n",
    "        num_layers = N_LAYERS,\n",
    "        num_nodes = dummy_graph.num_nodes   # TODO can put these in Dataset.py\n",
    "        #final_act = FINAL_ACT\n",
    "    ).to(DEVICE)\n",
    "else:\n",
    "    Model = Models.GraphUNetWithBN\n",
    "\n",
    "    model = Model(\n",
    "        in_channels = N_FEATURES,\n",
    "        out_channels = N_CLASSES,\n",
    "        depth = N_LAYERS\n",
    "        #num_nodes = dummy_graph.num_nodes   # TODO can put these in Dataset.py\n",
    "        #final_act = FINAL_ACT\n",
    "    ).to(DEVICE)\n",
    "model"
   ]
  },
  {
   "cell_type": "code",
   "execution_count": 10,
   "id": "b39dc66b-4924-4ada-862c-e75be6e678f2",
   "metadata": {
    "tags": []
   },
   "outputs": [
    {
     "name": "stdout",
     "output_type": "stream",
     "text": [
<<<<<<< HEAD
      "+---------------------------+----------------------------+----------------+----------+\n",
      "| Layer                     | Input Shape                | Output Shape   | #Param   |\n",
      "|---------------------------+----------------------------+----------------+----------|\n",
      "| GCNModel                  | [239536, 239536]           | [239536, 3]    | 29,443   |\n",
      "| ├─(conv_layers)ModuleList | --                         | --             | 29,443   |\n",
      "| │    └─(0)GCNConv         | [239536, 1], [2, 1432160]  | [239536, 64]   | 128      |\n",
      "| │    └─(1)GCNConv         | [239536, 64], [2, 1432160] | [239536, 64]   | 4,160    |\n",
      "| │    └─(2)GCNConv         | [239536, 64], [2, 1432160] | [239536, 64]   | 4,160    |\n",
      "| │    └─(3)GCNConv         | [239536, 64], [2, 1432160] | [239536, 64]   | 4,160    |\n",
      "| │    └─(4)GCNConv         | [239536, 64], [2, 1432160] | [239536, 64]   | 4,160    |\n",
      "| │    └─(5)GCNConv         | [239536, 64], [2, 1432160] | [239536, 64]   | 4,160    |\n",
      "| │    └─(6)GCNConv         | [239536, 64], [2, 1432160] | [239536, 64]   | 4,160    |\n",
      "| │    └─(7)GCNConv         | [239536, 64], [2, 1432160] | [239536, 64]   | 4,160    |\n",
      "| │    └─(8)GCNConv         | [239536, 64], [2, 1432160] | [239536, 3]    | 195      |\n",
      "+---------------------------+----------------------------+----------------+----------+\n"
=======
      "+-------------------------------+-------------------------------------------------+---------------------------------------------------------+----------+\n",
      "| Layer                         | Input Shape                                     | Output Shape                                            | #Param   |\n",
      "|-------------------------------+-------------------------------------------------+---------------------------------------------------------+----------|\n",
      "| GUNet                         | [239536, 239536]                                | [239536, 3]                                             | 5,539    |\n",
      "| ├─(unet)GraphUNet             | [239536, 1], [2, 1432160]                       | [239536, 3]                                             | 5,539    |\n",
      "| │    └─(down_convs)ModuleList | --                                              | --                                                      | 3,232    |\n",
      "| │    │    └─(0)GCNConv        | [239536, 1], [2, 1432160], [1432160]            | [239536, 32]                                            | 64       |\n",
      "| │    │    └─(1)GCNConv        | [2000, 32], [2, 30584], [30584]                 | [2000, 32]                                              | 1,056    |\n",
      "| │    │    └─(2)GCNConv        | [1000, 32], [2, 40968], [40968]                 | [1000, 32]                                              | 1,056    |\n",
      "| │    │    └─(3)GCNConv        | [500, 32], [2, 42328], [42328]                  | [500, 32]                                               | 1,056    |\n",
      "| │    └─(pools)ModuleList      | --                                              | --                                                      | 96       |\n",
      "| │    │    └─(0)TopKPooling    | [239536, 32], [2, 4295280], [4295280], [239536] | [2000, 32], [2, 30584], [30584], [2000], [2000], [2000] | 32       |\n",
      "| │    │    └─(1)TopKPooling    | [2000, 32], [2, 89630], [89630], [2000]         | [1000, 32], [2, 40968], [40968], [1000], [1000], [1000] | 32       |\n",
      "| │    │    └─(2)TopKPooling    | [1000, 32], [2, 100250], [100250], [1000]       | [500, 32], [2, 42328], [42328], [500], [500], [500]     | 32       |\n",
      "| │    └─(up_convs)ModuleList   | --                                              | --                                                      | 2,211    |\n",
      "| │    │    └─(0)GCNConv        | [1000, 32], [2, 40968], [40968]                 | [1000, 32]                                              | 1,056    |\n",
      "| │    │    └─(1)GCNConv        | [2000, 32], [2, 30584], [30584]                 | [2000, 32]                                              | 1,056    |\n",
      "| │    │    └─(2)GCNConv        | [239536, 32], [2, 1432160], [1432160]           | [239536, 3]                                             | 99       |\n",
      "+-------------------------------+-------------------------------------------------+---------------------------------------------------------+----------+\n"
>>>>>>> origin/main
     ]
    }
   ],
   "source": [
    "dummy_graph.to(DEVICE)\n",
    "print(summary(model, dummy_graph))"
   ]
  },
  {
   "cell_type": "markdown",
   "id": "3dc09936-0b86-4ac6-83a9-014239ce3675",
   "metadata": {},
   "source": [
    "### Optimizer"
   ]
  },
  {
   "cell_type": "code",
   "execution_count": 11,
   "id": "18c4bc3e-ff40-44eb-8e85-21bf090eaa05",
   "metadata": {
    "tags": []
   },
   "outputs": [],
   "source": [
    "OPTIMIZER = OPTIMIZER(model.parameters(), lr=LEARN_RATE)"
   ]
  },
  {
   "cell_type": "markdown",
   "id": "78dba108-aab1-4308-8ef1-f9af1595b818",
   "metadata": {},
   "source": [
    "### Train function"
   ]
  },
  {
   "cell_type": "code",
   "execution_count": 12,
   "id": "ba5d99c5-5c07-494b-8eb4-849741d46173",
   "metadata": {
    "tags": []
   },
   "outputs": [],
   "source": [
    "def train():\n",
    "    model.train()\n",
    "    total_loss = 0\n",
    "\n",
    "    for batch in train_loader:\n",
    "        batch = batch.to(DEVICE)\n",
    "\n",
    "        # zero the parameter gradients\n",
    "        OPTIMIZER.zero_grad()\n",
    "\n",
    "        # forward + loss\n",
    "        pred = model(batch)\n",
    "        loss = LOSS_OP(pred, batch.y)\n",
    "\n",
    "        # If you try the Soft Dice Score, use this(even if the loss stays constant)\n",
    "        #loss.requires_grad = True\n",
    "        #loss = torch.tensor(loss.item(), requires_grad=True)\n",
    "\n",
    "        total_loss += loss.item() * batch.num_graphs\n",
    "        \n",
    "        # backward + optimize\n",
    "        loss.backward()\n",
    "        OPTIMIZER.step()\n",
    "\n",
    "    average_loss = total_loss / len(train_loader.dataset)\n",
    "    return average_loss"
   ]
  },
  {
   "cell_type": "markdown",
   "id": "f191eccf-0b3e-4e2f-9eb8-d0b68e2f5aa8",
   "metadata": {},
   "source": [
    "### Evaluation function"
   ]
  },
  {
   "cell_type": "code",
   "execution_count": 13,
   "id": "c067d1ee-f24b-41e5-8fd4-6de0f9546ec1",
   "metadata": {
    "tags": []
   },
   "outputs": [],
   "source": [
    "@torch.no_grad()\n",
    "def evaluate(loader):\n",
    "    model.eval()\n",
    "    total_loss = 0\n",
    "\n",
    "    for batch in loader:\n",
    "        batch = batch.to(DEVICE)\n",
    "\n",
    "        # forward + loss\n",
    "        pred = model(batch)\n",
    "        loss = LOSS_OP(pred, batch.y)\n",
    "\n",
    "        total_loss += loss.item() * batch.num_graphs\n",
    "    \n",
    "    average_loss = total_loss / len(loader.dataset)\n",
    "    return average_loss"
   ]
  },
  {
   "cell_type": "markdown",
   "id": "2f2c0bd0-d87d-407a-a00f-c3b1baeb6075",
   "metadata": {
    "tags": []
   },
   "source": [
    "### Computation time check"
   ]
  },
  {
   "cell_type": "code",
   "execution_count": 14,
   "id": "bb5fb713-fda3-40bd-b729-be63ec773546",
   "metadata": {
    "tags": []
   },
   "outputs": [
    {
     "name": "stdout",
     "output_type": "stream",
     "text": [
<<<<<<< HEAD
<<<<<<< HEAD
      "  ---  Computation before training finished!  ---  11.500 seconds.\n"
=======
      "  ---  Computation before training finished!  ---  5.316 seconds.\n"
>>>>>>> origin/main
||||||| df80ebd
      "  ---  Computation before training finished!  ---  5.316 seconds.\n"
=======
      "  ---  Computation before training finished!  ---  3.895 seconds.\n"
>>>>>>> origin/main
     ]
    }
   ],
   "source": [
    "time_func.stop_time(TIMESTAMP, \"Computation before training finished!\")"
   ]
  },
  {
   "cell_type": "code",
   "execution_count": 15,
   "id": "9e39fb6f-6f39-4071-9271-ae684ba04d4a",
   "metadata": {
    "tags": []
   },
   "outputs": [
    {
     "data": {
      "text/plain": [
       "'\\nfrom time import time\\nimport multiprocessing as mp\\n\\nfor num_workers in range(2, mp.cpu_count(), 2):\\n    train_loader = DataLoader(train_dataset, batch_size=TRAIN_BATCH_SIZE, shuffle=True, num_workers=num_workers, pin_memory=True)\\n    val_loader = DataLoader(val_dataset, batch_size=VAL_BATCH_SIZE, shuffle=False, num_workers=num_workers, pin_memory=True)\\n\\n    start = time()\\n    for epoch in range(1, 3):\\n        for i, data in enumerate(train_loader, 0):\\n            pass\\n        for i, data in enumerate(val_loader, 0):\\n            pass\\n    end = time()\\n    print(\"Finish with: {} second, num_workers={}\".format(end - start, num_workers))\\n'"
      ]
     },
     "execution_count": 15,
     "metadata": {},
     "output_type": "execute_result"
    }
   ],
   "source": [
    "'''\n",
    "from time import time\n",
    "import multiprocessing as mp\n",
    "\n",
    "for num_workers in range(2, mp.cpu_count(), 2):\n",
    "    train_loader = DataLoader(train_dataset, batch_size=TRAIN_BATCH_SIZE, shuffle=True, num_workers=num_workers, pin_memory=True)\n",
    "    val_loader = DataLoader(val_dataset, batch_size=VAL_BATCH_SIZE, shuffle=False, num_workers=num_workers, pin_memory=True)\n",
    "\n",
    "    start = time()\n",
    "    for epoch in range(1, 3):\n",
    "        for i, data in enumerate(train_loader, 0):\n",
    "            pass\n",
    "        for i, data in enumerate(val_loader, 0):\n",
    "            pass\n",
    "    end = time()\n",
    "    print(\"Finish with: {} second, num_workers={}\".format(end - start, num_workers))\n",
    "'''"
   ]
  },
  {
   "cell_type": "markdown",
   "id": "9e8995f5-2bb4-4fee-bc5d-523333087f5c",
   "metadata": {
    "tags": []
   },
   "source": [
    "### Epoch training, validation and testing"
   ]
  },
  {
   "cell_type": "code",
   "execution_count": null,
   "id": "7aa97935-88b2-411b-aec5-c21441b0d85e",
   "metadata": {
    "tags": []
   },
   "outputs": [
    {
     "name": "stdout",
     "output_type": "stream",
     "text": [
<<<<<<< HEAD
<<<<<<< HEAD
      "train pred: tensor([[-1.0995, -1.0969, -1.0995],\n",
      "        [-1.0995, -1.0968, -1.0995],\n",
      "        [-1.0993, -1.0972, -1.0993],\n",
      "        ...,\n",
      "        [-1.0986, -1.0986, -1.0986],\n",
      "        [-1.0986, -1.0986, -1.0986],\n",
      "        [-1.0986, -1.0986, -1.0986]], grad_fn=<LogSoftmaxBackward0>)\n",
      "train loss: tensor(1.0988, grad_fn=<NllLossBackward0>) \n",
      "\n",
      "train pred: tensor([[-1.0986, -1.0986, -1.0986],\n",
      "        [-1.0986, -1.0986, -1.0986],\n",
      "        [-1.0986, -1.0986, -1.0986],\n",
      "        ...,\n",
      "        [-1.0986, -1.0986, -1.0986],\n",
      "        [-1.0986, -1.0986, -1.0986],\n",
      "        [-1.0986, -1.0986, -1.0986]], grad_fn=<LogSoftmaxBackward0>)\n",
      "train loss: tensor(1.0986, grad_fn=<NllLossBackward0>) \n",
      "\n",
      "train pred: tensor([[-1.0995, -1.0995, -1.0968],\n",
      "        [-1.0996, -1.0996, -1.0967],\n",
      "        [-1.0996, -1.0996, -1.0967],\n",
      "        ...,\n",
      "        [-1.0992, -1.0992, -1.0974],\n",
      "        [-1.0993, -1.0993, -1.0973],\n",
      "        [-1.0992, -1.0992, -1.0974]], grad_fn=<LogSoftmaxBackward0>)\n",
      "train loss: tensor(1.0986, grad_fn=<NllLossBackward0>) \n",
      "\n",
      "train pred: tensor([[-1.0998, -1.0998, -1.0962],\n",
      "        [-1.0999, -1.0999, -1.0959],\n",
      "        [-1.1000, -1.1000, -1.0959],\n",
      "        ...,\n",
      "        [-1.0978, -1.0993, -1.0987],\n",
      "        [-1.0977, -1.0993, -1.0987],\n",
      "        [-1.0978, -1.0993, -1.0987]], grad_fn=<LogSoftmaxBackward0>)\n",
      "train loss: tensor(1.0982, grad_fn=<NllLossBackward0>) \n",
      "\n",
      "train pred: tensor([[-1.0982, -1.1013, -1.0963],\n",
      "        [-1.0983, -1.1015, -1.0960],\n",
      "        [-1.0984, -1.1015, -1.0959],\n",
      "        ...,\n",
      "        [-1.0946, -1.1010, -1.1003],\n",
      "        [-1.0941, -1.1012, -1.1006],\n",
      "        [-1.0946, -1.1010, -1.1002]], grad_fn=<LogSoftmaxBackward0>)\n",
      "train loss: tensor(1.0975, grad_fn=<NllLossBackward0>) \n",
      "\n",
      "val pred: tensor([[-1.0967, -1.1032, -1.0960],\n",
      "        [-1.0967, -1.1036, -1.0956],\n",
      "        [-1.0967, -1.1036, -1.0955],\n",
      "        ...,\n",
      "        [-1.0919, -1.1030, -1.1009],\n",
      "        [-1.0911, -1.1036, -1.1012],\n",
      "        [-1.0920, -1.1031, -1.1008]])\n",
      "val loss: tensor(1.0968) \n",
      "\n",
      "Epoch: 001, Train running loss: 1.0984, Val running loss: 1.0968\n",
      "\n",
      "train pred: tensor([[-1.0950, -1.1029, -1.0980],\n",
      "        [-1.0947, -1.1033, -1.0978],\n",
      "        [-1.0949, -1.1033, -1.0977],\n",
      "        ...,\n",
      "        [-1.0916, -1.1029, -1.1014],\n",
      "        [-1.0906, -1.1034, -1.1019],\n",
      "        [-1.0916, -1.1029, -1.1014]], grad_fn=<LogSoftmaxBackward0>)\n",
      "train loss: tensor(1.0968, grad_fn=<NllLossBackward0>) \n",
      "\n",
      "train pred: tensor([[-1.0953, -1.1052, -1.0954],\n",
      "        [-1.0951, -1.1058, -1.0950],\n",
      "        [-1.0948, -1.1056, -1.0954],\n",
      "        ...,\n",
      "        [-1.0885, -1.1049, -1.1025],\n",
      "        [-1.0872, -1.1056, -1.1031],\n",
      "        [-1.0885, -1.1049, -1.1025]], grad_fn=<LogSoftmaxBackward0>)\n",
      "train loss: tensor(1.0960, grad_fn=<NllLossBackward0>) \n",
      "\n",
      "train pred: tensor([[-1.0945, -1.1077, -1.0937],\n",
      "        [-1.0943, -1.1085, -1.0931],\n",
      "        [-1.0943, -1.1085, -1.0932],\n",
      "        ...,\n",
      "        [-1.0849, -1.1066, -1.1045],\n",
      "        [-1.0831, -1.1075, -1.1055],\n",
      "        [-1.0849, -1.1067, -1.1044]], grad_fn=<LogSoftmaxBackward0>)\n",
      "train loss: tensor(1.0952, grad_fn=<NllLossBackward0>) \n",
      "\n",
      "train pred: tensor([[-1.0879, -1.1094, -1.0987],\n",
      "        [-1.0869, -1.1103, -1.0987],\n",
      "        [-1.0863, -1.1103, -1.0994],\n",
      "        ...,\n",
      "        [-1.0813, -1.1084, -1.1064],\n",
      "        [-1.0789, -1.1095, -1.1077],\n",
      "        [-1.0813, -1.1084, -1.1063]], grad_fn=<LogSoftmaxBackward0>)\n",
      "train loss: tensor(1.0942, grad_fn=<NllLossBackward0>) \n",
      "\n",
      "train pred: tensor([[-1.0900, -1.1119, -1.0940],\n",
      "        [-1.0894, -1.1131, -1.0935],\n",
      "        [-1.0886, -1.1130, -1.0944],\n",
      "        ...,\n",
      "        [-1.0775, -1.1098, -1.1088],\n",
      "        [-1.0746, -1.1111, -1.1106],\n",
      "        [-1.0775, -1.1100, -1.1087]], grad_fn=<LogSoftmaxBackward0>)\n",
      "train loss: tensor(1.0932, grad_fn=<NllLossBackward0>) \n",
      "\n",
      "val pred: tensor([[-1.0924, -1.1156, -1.0881],\n",
      "        [-1.0921, -1.1172, -1.0868],\n",
      "        [-1.0922, -1.1173, -1.0865],\n",
      "        ...,\n",
      "        [-1.0732, -1.1131, -1.1100],\n",
      "        [-1.0696, -1.1149, -1.1120],\n",
      "        [-1.0732, -1.1133, -1.1098]])\n",
      "val loss: tensor(1.0918) \n",
      "\n",
      "Epoch: 002, Train running loss: 1.0953, Val running loss: 1.0918\n",
      "\n",
      "train pred: tensor([[-1.0911, -1.1151, -1.0899],\n",
      "        [-1.0906, -1.1165, -1.0890],\n",
      "        [-1.0898, -1.1164, -1.0899],\n",
      "        ...,\n",
      "        [-1.0733, -1.1123, -1.1107],\n",
      "        [-1.0699, -1.1138, -1.1128],\n",
      "        [-1.0733, -1.1124, -1.1106]], grad_fn=<LogSoftmaxBackward0>)\n",
      "train loss: tensor(1.0919, grad_fn=<NllLossBackward0>) \n",
      "\n",
      "train pred: tensor([[-1.0898, -1.1182, -1.0881],\n",
      "        [-1.0895, -1.1199, -1.0868],\n",
      "        [-1.0896, -1.1200, -1.0866],\n",
      "        ...,\n",
      "        [-1.0686, -1.1153, -1.1126],\n",
      "        [-1.0645, -1.1172, -1.1150],\n",
      "        [-1.0687, -1.1154, -1.1125]], grad_fn=<LogSoftmaxBackward0>)\n",
      "train loss: tensor(1.0907, grad_fn=<NllLossBackward0>) \n",
      "\n",
      "train pred: tensor([[-1.0894, -1.1216, -1.0852],\n",
      "        [-1.0887, -1.1236, -1.0840],\n",
      "        [-1.0866, -1.1235, -1.0861],\n",
      "        ...,\n",
      "        [-1.0639, -1.1186, -1.1142],\n",
      "        [-1.0590, -1.1208, -1.1173],\n",
      "        [-1.0639, -1.1184, -1.1145]], grad_fn=<LogSoftmaxBackward0>)\n",
      "train loss: tensor(1.0891, grad_fn=<NllLossBackward0>) \n",
      "\n",
      "train pred: tensor([[-1.0842, -1.1254, -1.0868],\n",
      "        [-1.0832, -1.1278, -1.0855],\n",
      "        [-1.0830, -1.1278, -1.0856],\n",
      "        ...,\n",
      "        [-1.0583, -1.1208, -1.1180],\n",
      "        [-1.0526, -1.1234, -1.1214],\n",
      "        [-1.0584, -1.1210, -1.1177]], grad_fn=<LogSoftmaxBackward0>)\n",
      "train loss: tensor(1.0872, grad_fn=<NllLossBackward0>) \n",
      "\n",
      "train pred: tensor([[-1.0884, -1.1300, -1.0782],\n",
      "        [-1.0877, -1.1328, -1.0763],\n",
      "        [-1.0839, -1.1327, -1.0801],\n",
      "        ...,\n",
      "        [-1.0527, -1.1255, -1.1192],\n",
      "        [-1.0461, -1.1289, -1.1229],\n",
      "        [-1.0529, -1.1257, -1.1189]], grad_fn=<LogSoftmaxBackward0>)\n",
      "train loss: tensor(1.0849, grad_fn=<NllLossBackward0>) \n",
      "\n",
      "val pred: tensor([[-1.0944, -1.1391, -1.0638],\n",
      "        [-1.0948, -1.1430, -1.0597],\n",
      "        [-1.0952, -1.1435, -1.0589],\n",
      "        ...,\n",
      "        [-1.0459, -1.1293, -1.1228],\n",
      "        [-1.0383, -1.1332, -1.1272],\n",
      "        [-1.0462, -1.1296, -1.1222]])\n",
      "val loss: tensor(1.0830) \n",
      "\n",
      "Epoch: 003, Train running loss: 1.0891, Val running loss: 1.0830\n",
      "\n",
      "train pred: tensor([[-1.0923, -1.1371, -1.0676],\n",
      "        [-1.0925, -1.1409, -1.0640],\n",
      "        [-1.0929, -1.1412, -1.0633],\n",
      "        ...,\n",
      "        [-1.0455, -1.1276, -1.1249],\n",
      "        [-1.0378, -1.1314, -1.1295],\n",
      "        [-1.0456, -1.1280, -1.1244]], grad_fn=<LogSoftmaxBackward0>)\n",
      "train loss: tensor(1.0827, grad_fn=<NllLossBackward0>) \n",
      "\n",
      "train pred: tensor([[-1.0946, -1.1450, -1.0582],\n",
      "        [-1.0948, -1.1491, -1.0542],\n",
      "        [-1.0925, -1.1473, -1.0581],\n",
      "        ...,\n",
      "        [-1.0381, -1.1329, -1.1277],\n",
      "        [-1.0291, -1.1373, -1.1332],\n",
      "        [-1.0382, -1.1330, -1.1276]], grad_fn=<LogSoftmaxBackward0>)\n",
      "train loss: tensor(1.0813, grad_fn=<NllLossBackward0>) \n",
      "\n",
      "train pred: tensor([[-1.0867, -1.1478, -1.0632],\n",
      "        [-1.0858, -1.1525, -1.0598],\n",
      "        [-1.0826, -1.1523, -1.0632],\n",
      "        ...,\n",
      "        [-1.0298, -1.1382, -1.1316],\n",
      "        [-1.0195, -1.1434, -1.1379],\n",
      "        [-1.0299, -1.1382, -1.1314]], grad_fn=<LogSoftmaxBackward0>)\n",
      "train loss: tensor(1.0780, grad_fn=<NllLossBackward0>) \n",
      "\n",
      "train pred: tensor([[-1.0992, -1.1628, -1.0378],\n",
      "        [-1.1004, -1.1693, -1.0309],\n",
      "        [-1.1007, -1.1697, -1.0303],\n",
      "        ...,\n",
      "        [-1.0202, -1.1420, -1.1384],\n",
      "        [-1.0086, -1.1479, -1.1458],\n",
      "        [-1.0203, -1.1425, -1.1379]], grad_fn=<LogSoftmaxBackward0>)\n",
      "train loss: tensor(1.0752, grad_fn=<NllLossBackward0>) \n",
      "\n",
      "train pred: tensor([[-1.1010, -1.1729, -1.0272],\n",
      "        [-1.1027, -1.1806, -1.0190],\n",
      "        [-1.1031, -1.1810, -1.0183],\n",
      "        ...,\n",
      "        [-1.0106, -1.1467, -1.1447],\n",
      "        [-0.9974, -1.1533, -1.1533],\n",
      "        [-1.0104, -1.1471, -1.1445]], grad_fn=<LogSoftmaxBackward0>)\n",
      "train loss: tensor(1.0708, grad_fn=<NllLossBackward0>) \n",
      "\n",
      "val pred: tensor([[-1.1101, -1.1919, -1.0028],\n",
      "        [-1.1131, -1.2020, -0.9919],\n",
      "        [-1.1142, -1.2035, -0.9897],\n",
      "        ...,\n",
      "        [-0.9977, -1.1586, -1.1478],\n",
      "        [-0.9819, -1.1676, -1.1575],\n",
      "        [-0.9984, -1.1592, -1.1464]])\n",
      "val loss: tensor(1.0664) \n",
      "\n",
      "Epoch: 004, Train running loss: 1.0782, Val running loss: 1.0664\n",
      "\n",
      "train pred: tensor([[-1.1101, -1.1919, -1.0029],\n",
      "        [-1.1133, -1.2023, -0.9915],\n",
      "        [-1.1154, -1.2050, -0.9875],\n",
      "        ...,\n",
      "        [-0.9973, -1.1575, -1.1493],\n",
      "        [-0.9817, -1.1655, -1.1598],\n",
      "        [-0.9974, -1.1570, -1.1497]], grad_fn=<LogSoftmaxBackward0>)\n",
      "train loss: tensor(1.0673, grad_fn=<NllLossBackward0>) \n",
      "\n",
      "train pred: tensor([[-1.1199, -1.2145, -0.9759],\n",
      "        [-1.1245, -1.2275, -0.9620],\n",
      "        [-1.1252, -1.2286, -0.9604],\n",
      "        ...,\n",
      "        [-0.9834, -1.1644, -1.1588],\n",
      "        [-0.9657, -1.1737, -1.1710],\n",
      "        [-0.9836, -1.1641, -1.1588]], grad_fn=<LogSoftmaxBackward0>)\n",
      "train loss: tensor(1.0624, grad_fn=<NllLossBackward0>) \n",
      "\n",
      "train pred: tensor([[-1.1340, -1.2449, -0.9408],\n",
      "        [-1.1404, -1.2614, -0.9237],\n",
      "        [-1.1399, -1.2609, -0.9245],\n",
      "        ...,\n",
      "        [-0.9686, -1.1779, -1.1633],\n",
      "        [-0.9482, -1.1911, -1.1754],\n",
      "        [-0.9717, -1.1811, -1.1563]], grad_fn=<LogSoftmaxBackward0>)\n",
      "train loss: tensor(1.0574, grad_fn=<NllLossBackward0>) \n",
      "\n",
      "train pred: tensor([[-1.1217, -1.2443, -0.9515],\n",
      "        [-1.1268, -1.2607, -0.9353],\n",
      "        [-1.1279, -1.2620, -0.9334],\n",
      "        ...,\n",
      "        [-0.9543, -1.1938, -1.1653],\n",
      "        [-0.9301, -1.2086, -1.1814],\n",
      "        [-0.9541, -1.1932, -1.1661]], grad_fn=<LogSoftmaxBackward0>)\n",
      "train loss: tensor(1.0511, grad_fn=<NllLossBackward0>) \n",
      "\n",
      "train pred: tensor([[-1.1411, -1.2854, -0.9063],\n",
      "        [-1.1488, -1.3066, -0.8862],\n",
      "        [-1.1435, -1.3006, -0.8942],\n",
      "        ...,\n",
      "        [-0.9299, -1.2012, -1.1889],\n",
      "        [-0.9028, -1.2171, -1.2090],\n",
      "        [-0.9301, -1.1996, -1.1902]], grad_fn=<LogSoftmaxBackward0>)\n",
      "train loss: tensor(1.0467, grad_fn=<NllLossBackward0>) \n",
      "\n",
      "val pred: tensor([[-1.1554, -1.3253, -0.8691],\n",
      "        [-1.1663, -1.3529, -0.8440],\n",
      "        [-1.1699, -1.3575, -0.8386],\n",
      "        ...,\n",
      "        [-0.9088, -1.2201, -1.1981],\n",
      "        [-0.8780, -1.2416, -1.2192],\n",
      "        [-0.9105, -1.2220, -1.1938]])\n",
      "val loss: tensor(1.0358) \n",
      "\n",
      "Epoch: 005, Train running loss: 1.0580, Val running loss: 1.0358\n",
      "\n",
      "train pred: tensor([[-1.0516, -1.2583, -1.0038],\n",
      "        [-1.0518, -1.2764, -0.9898],\n",
      "        [-1.0731, -1.2822, -0.9660],\n",
      "        ...,\n",
      "        [-0.9100, -1.2099, -1.2066],\n",
      "        [-0.8807, -1.2284, -1.2284],\n",
      "        [-0.9102, -1.2098, -1.2062]], grad_fn=<LogSoftmaxBackward0>)\n",
      "train loss: tensor(1.0383, grad_fn=<NllLossBackward0>) \n",
      "\n",
      "train pred: tensor([[-1.1348, -1.3283, -0.8828],\n",
      "        [-1.1416, -1.3539, -0.8617],\n",
      "        [-1.1334, -1.3464, -0.8725],\n",
      "        ...,\n",
      "        [-0.8849, -1.2392, -1.2119],\n",
      "        [-0.8503, -1.2651, -1.2361],\n",
      "        [-0.8865, -1.2412, -1.2078]], grad_fn=<LogSoftmaxBackward0>)\n",
      "train loss: tensor(1.0299, grad_fn=<NllLossBackward0>) \n",
      "\n",
      "train pred: tensor([[-1.1447, -1.3723, -0.8483],\n",
      "        [-1.1511, -1.4014, -0.8268],\n",
      "        [-1.1299, -1.3827, -0.8533],\n",
      "        ...,\n",
      "        [-0.8674, -1.2379, -1.2379],\n",
      "        [-0.8311, -1.2651, -1.2651],\n",
      "        [-0.8643, -1.2413, -1.2392]], grad_fn=<LogSoftmaxBackward0>)\n",
      "train loss: tensor(1.0207, grad_fn=<NllLossBackward0>) \n",
      "\n",
      "train pred: tensor([[-1.2166, -1.5049, -0.7304],\n",
      "        [-1.2393, -1.5578, -0.6935],\n",
      "        [-1.2434, -1.5639, -0.6886],\n",
      "        ...,\n",
      "        [-0.8317, -1.2840, -1.2456],\n",
      "        [-0.7885, -1.3201, -1.2787],\n",
      "        [-0.8330, -1.2859, -1.2418]], grad_fn=<LogSoftmaxBackward0>)\n",
      "train loss: tensor(1.0091, grad_fn=<NllLossBackward0>) \n",
      "\n",
      "train pred: tensor([[-1.2028, -1.5267, -0.7290],\n",
      "        [-1.2241, -1.5821, -0.6923],\n",
      "        [-1.2272, -1.5869, -0.6885],\n",
      "        ...,\n",
      "        [-0.8183, -1.3389, -1.2151],\n",
      "        [-0.7744, -1.3875, -1.2403],\n",
      "        [-0.8228, -1.3411, -1.2064]], grad_fn=<LogSoftmaxBackward0>)\n",
      "train loss: tensor(0.9957, grad_fn=<NllLossBackward0>) \n",
      "\n",
      "val pred: tensor([[-1.2876, -1.6997, -0.6137],\n",
      "        [-1.3259, -1.7827, -0.5687],\n",
      "        [-1.3357, -1.7982, -0.5596],\n",
      "        ...,\n",
      "        [-0.7755, -1.3525, -1.2696],\n",
      "        [-0.7244, -1.4059, -1.3084],\n",
      "        [-0.7788, -1.3586, -1.2587]])\n",
      "val loss: tensor(0.9823) \n",
      "\n",
      "Epoch: 006, Train running loss: 1.0210, Val running loss: 0.9823\n",
      "\n",
      "train pred: tensor([[-1.3395, -1.7789, -0.5635],\n",
      "        [-1.3861, -1.8730, -0.5170],\n",
      "        [-1.3848, -1.8717, -0.5179],\n",
      "        ...,\n",
      "        [-0.7824, -1.3087, -1.3001],\n",
      "        [-0.7301, -1.3556, -1.3457],\n",
      "        [-0.7751, -1.3300, -1.2915]], grad_fn=<LogSoftmaxBackward0>)\n",
      "train loss: tensor(0.9852, grad_fn=<NllLossBackward0>) \n",
      "\n",
      "train pred: tensor([[-1.2871, -1.7599, -0.5945],\n",
      "        [-1.3268, -1.8511, -0.5488],\n",
      "        [-1.3314, -1.8583, -0.5448],\n",
      "        ...,\n",
      "        [-0.7497, -1.3422, -1.3234],\n",
      "        [-0.6944, -1.3943, -1.3758],\n",
      "        [-0.7451, -1.3584, -1.3160]], grad_fn=<LogSoftmaxBackward0>)\n",
      "train loss: tensor(0.9738, grad_fn=<NllLossBackward0>) \n",
      "\n",
      "train pred: tensor([[-1.2679, -1.8128, -0.5881],\n",
      "        [-1.2950, -1.8963, -0.5517],\n",
      "        [-1.2390, -1.8318, -0.5975],\n",
      "        ...,\n",
      "        [-0.7222, -1.3669, -1.3493],\n",
      "        [-0.6614, -1.4292, -1.4091],\n",
      "        [-0.7181, -1.3775, -1.3467]], grad_fn=<LogSoftmaxBackward0>)\n",
      "train loss: tensor(0.9580, grad_fn=<NllLossBackward0>) \n",
      "\n",
      "train pred: tensor([[-1.3173, -1.9840, -0.5199],\n",
      "        [-1.3523, -2.0876, -0.4823],\n",
      "        [-1.2812, -1.9995, -0.5329],\n",
      "        ...,\n",
      "        [-0.6805, -1.4235, -1.3753],\n",
      "        [-0.6170, -1.4935, -1.4446],\n",
      "        [-0.6796, -1.4309, -1.3700]], grad_fn=<LogSoftmaxBackward0>)\n",
      "train loss: tensor(0.9463, grad_fn=<NllLossBackward0>) \n",
      "\n",
      "train pred: tensor([[-1.1591, -1.9396, -0.6116],\n",
      "        [-1.1799, -2.0459, -0.5737],\n",
      "        [-1.1785, -2.0447, -0.5748],\n",
      "        ...,\n",
      "        [-0.6555, -1.4348, -1.4160],\n",
      "        [-0.5934, -1.5005, -1.4937],\n",
      "        [-0.6670, -1.4139, -1.4123]], grad_fn=<LogSoftmaxBackward0>)\n",
      "train loss: tensor(0.9321, grad_fn=<NllLossBackward0>) \n",
      "\n",
      "val pred: tensor([[-1.6304, -2.7771, -0.2985],\n",
      "        [-1.7481, -3.0269, -0.2518],\n",
      "        [-1.7781, -3.0761, -0.2422],\n",
      "        ...,\n",
      "        [-0.5854, -1.5912, -1.4295],\n",
      "        [-0.5111, -1.7135, -1.5145],\n",
      "        [-0.5863, -1.6112, -1.4108]])\n",
      "val loss: tensor(0.9131) \n",
      "\n",
      "Epoch: 007, Train running loss: 0.9617, Val running loss: 0.9131\n",
      "\n",
      "train pred: tensor([[-1.1722, -2.1181, -0.5620],\n",
      "        [-1.2045, -2.2550, -0.5187],\n",
      "        [-1.2250, -2.2779, -0.5046],\n",
      "        ...,\n",
      "        [-0.5996, -1.5149, -1.4648],\n",
      "        [-0.5276, -1.6106, -1.5597],\n",
      "        [-0.5959, -1.5280, -1.4612]], grad_fn=<LogSoftmaxBackward0>)\n",
      "train loss: tensor(0.9183, grad_fn=<NllLossBackward0>) \n",
      "\n"
=======
      "Epoch: 001, Train running loss: 1.0987, Val running loss: 1.0943\n",
      "Epoch: 002, Train running loss: 1.0940, Val running loss: 1.0878\n",
      "Epoch: 003, Train running loss: 1.0857, Val running loss: 1.0813\n",
      "Epoch: 004, Train running loss: 1.0812, Val running loss: 1.0747\n",
      "Epoch: 005, Train running loss: 1.0723, Val running loss: 1.0692\n",
      "Epoch: 006, Train running loss: 1.0681, Val running loss: 1.0637\n",
      "Epoch: 007, Train running loss: 1.0628, Val running loss: 1.0589\n",
      "Epoch: 008, Train running loss: 1.0581, Val running loss: 1.0553\n",
      "Epoch: 009, Train running loss: 1.0546, Val running loss: 1.0510\n",
      "Epoch: 010, Train running loss: 1.0502, Val running loss: 1.0470\n",
      "Epoch: 011, Train running loss: 1.0467, Val running loss: 1.0437\n",
      "Epoch: 012, Train running loss: 1.0435, Val running loss: 1.0403\n",
      "Epoch: 013, Train running loss: 1.0405, Val running loss: 1.0371\n",
      "Epoch: 014, Train running loss: 1.0375, Val running loss: 1.0341\n",
      "Epoch: 015, Train running loss: 1.0352, Val running loss: 1.0311\n",
      "Epoch: 016, Train running loss: 1.0326, Val running loss: 1.0279\n",
      "Epoch: 017, Train running loss: 1.0304, Val running loss: 1.0248\n",
      "Epoch: 018, Train running loss: 1.0280, Val running loss: 1.0215\n",
      "Epoch: 019, Train running loss: 1.0258, Val running loss: 1.0184\n",
      "Epoch: 020, Train running loss: 1.0238, Val running loss: 1.0153\n",
      "Epoch: 021, Train running loss: 1.0217, Val running loss: 1.0121\n",
      "Epoch: 022, Train running loss: 1.0198, Val running loss: 1.0087\n",
      "Epoch: 023, Train running loss: 1.0178, Val running loss: 1.0053\n",
      "Epoch: 024, Train running loss: 1.0162, Val running loss: 1.0021\n",
      "Epoch: 025, Train running loss: 1.0142, Val running loss: 0.9987\n",
      "Epoch: 026, Train running loss: 1.0125, Val running loss: 0.9953\n",
      "Epoch: 027, Train running loss: 1.0107, Val running loss: 0.9920\n",
      "Epoch: 028, Train running loss: 1.0088, Val running loss: 0.9887\n",
      "Epoch: 029, Train running loss: 1.0074, Val running loss: 0.9854\n",
      "Epoch: 030, Train running loss: 1.0061, Val running loss: 0.9822\n",
      "Epoch: 031, Train running loss: 1.0042, Val running loss: 0.9792\n",
      "Epoch: 032, Train running loss: 1.0029, Val running loss: 0.9760\n",
      "Epoch: 033, Train running loss: 1.0014, Val running loss: 0.9734\n",
      "Epoch: 034, Train running loss: 1.0000, Val running loss: 0.9702\n",
      "Epoch: 035, Train running loss: 0.9985, Val running loss: 0.9679\n",
      "Epoch: 036, Train running loss: 0.9975, Val running loss: 0.9654\n",
      "Epoch: 037, Train running loss: 0.9965, Val running loss: 0.9625\n",
      "Epoch: 038, Train running loss: 0.9953, Val running loss: 0.9603\n",
      "Epoch: 039, Train running loss: 0.9943, Val running loss: 0.9579\n",
      "Epoch: 040, Train running loss: 0.9934, Val running loss: 0.9556\n",
      "Epoch: 041, Train running loss: 0.9926, Val running loss: 0.9533\n",
      "Epoch: 042, Train running loss: 0.9917, Val running loss: 0.9512\n",
      "Epoch: 043, Train running loss: 0.9907, Val running loss: 0.9492\n",
      "Epoch: 044, Train running loss: 0.9903, Val running loss: 0.9473\n",
      "Epoch: 045, Train running loss: 0.9889, Val running loss: 0.9454\n",
      "Epoch: 046, Train running loss: 0.9885, Val running loss: 0.9435\n",
      "Epoch: 047, Train running loss: 0.9879, Val running loss: 0.9420\n",
      "Epoch: 048, Train running loss: 0.9870, Val running loss: 0.9406\n",
      "Epoch: 049, Train running loss: 0.9864, Val running loss: 0.9391\n",
      "Epoch: 050, Train running loss: 0.9857, Val running loss: 0.9377\n",
      "  ---  Training Complete!\n",
      "  ---  651.822 seconds.\n",
      "Metric for test: 0.9344\n"
>>>>>>> origin/main
||||||| df80ebd
      "Epoch: 001, Train running loss: 1.0987, Val running loss: 1.0943\n",
      "Epoch: 002, Train running loss: 1.0940, Val running loss: 1.0878\n",
      "Epoch: 003, Train running loss: 1.0857, Val running loss: 1.0813\n",
      "Epoch: 004, Train running loss: 1.0812, Val running loss: 1.0747\n",
      "Epoch: 005, Train running loss: 1.0723, Val running loss: 1.0692\n",
      "Epoch: 006, Train running loss: 1.0681, Val running loss: 1.0637\n",
      "Epoch: 007, Train running loss: 1.0628, Val running loss: 1.0589\n",
      "Epoch: 008, Train running loss: 1.0581, Val running loss: 1.0553\n",
      "Epoch: 009, Train running loss: 1.0546, Val running loss: 1.0510\n",
      "Epoch: 010, Train running loss: 1.0502, Val running loss: 1.0470\n",
      "Epoch: 011, Train running loss: 1.0467, Val running loss: 1.0437\n",
      "Epoch: 012, Train running loss: 1.0435, Val running loss: 1.0403\n",
      "Epoch: 013, Train running loss: 1.0405, Val running loss: 1.0371\n",
      "Epoch: 014, Train running loss: 1.0375, Val running loss: 1.0341\n",
      "Epoch: 015, Train running loss: 1.0352, Val running loss: 1.0311\n",
      "Epoch: 016, Train running loss: 1.0326, Val running loss: 1.0279\n",
      "Epoch: 017, Train running loss: 1.0304, Val running loss: 1.0248\n",
      "Epoch: 018, Train running loss: 1.0280, Val running loss: 1.0215\n",
      "Epoch: 019, Train running loss: 1.0258, Val running loss: 1.0184\n",
      "Epoch: 020, Train running loss: 1.0238, Val running loss: 1.0153\n",
      "Epoch: 021, Train running loss: 1.0217, Val running loss: 1.0121\n",
      "Epoch: 022, Train running loss: 1.0198, Val running loss: 1.0087\n",
      "Epoch: 023, Train running loss: 1.0178, Val running loss: 1.0053\n",
      "Epoch: 024, Train running loss: 1.0162, Val running loss: 1.0021\n",
      "Epoch: 025, Train running loss: 1.0142, Val running loss: 0.9987\n",
      "Epoch: 026, Train running loss: 1.0125, Val running loss: 0.9953\n",
      "Epoch: 027, Train running loss: 1.0107, Val running loss: 0.9920\n",
      "Epoch: 028, Train running loss: 1.0088, Val running loss: 0.9887\n",
      "Epoch: 029, Train running loss: 1.0074, Val running loss: 0.9854\n",
      "Epoch: 030, Train running loss: 1.0061, Val running loss: 0.9822\n",
      "Epoch: 031, Train running loss: 1.0042, Val running loss: 0.9792\n",
      "Epoch: 032, Train running loss: 1.0029, Val running loss: 0.9760\n",
      "Epoch: 033, Train running loss: 1.0014, Val running loss: 0.9734\n",
      "Epoch: 034, Train running loss: 1.0000, Val running loss: 0.9702\n",
      "Epoch: 035, Train running loss: 0.9985, Val running loss: 0.9679\n",
      "Epoch: 036, Train running loss: 0.9975, Val running loss: 0.9654\n",
      "Epoch: 037, Train running loss: 0.9965, Val running loss: 0.9625\n",
      "Epoch: 038, Train running loss: 0.9953, Val running loss: 0.9603\n",
      "Epoch: 039, Train running loss: 0.9943, Val running loss: 0.9579\n",
      "Epoch: 040, Train running loss: 0.9934, Val running loss: 0.9556\n",
      "Epoch: 041, Train running loss: 0.9926, Val running loss: 0.9533\n",
      "Epoch: 042, Train running loss: 0.9917, Val running loss: 0.9512\n",
      "Epoch: 043, Train running loss: 0.9907, Val running loss: 0.9492\n",
      "Epoch: 044, Train running loss: 0.9903, Val running loss: 0.9473\n",
      "Epoch: 045, Train running loss: 0.9889, Val running loss: 0.9454\n",
      "Epoch: 046, Train running loss: 0.9885, Val running loss: 0.9435\n",
      "Epoch: 047, Train running loss: 0.9879, Val running loss: 0.9420\n",
      "Epoch: 048, Train running loss: 0.9870, Val running loss: 0.9406\n",
      "Epoch: 049, Train running loss: 0.9864, Val running loss: 0.9391\n",
      "Epoch: 050, Train running loss: 0.9857, Val running loss: 0.9377\n",
      "  ---  Training Complete!\n",
      "  ---  651.822 seconds.\n",
      "Metric for test: 0.9344\n"
=======
      "Epoch: 001, Train running loss: 1.1014, Val running loss: 1.0963\n",
      "Epoch: 002, Train running loss: 1.0938, Val running loss: 1.0950\n",
      "Epoch: 003, Train running loss: 1.0915, Val running loss: 1.0931\n",
      "Epoch: 004, Train running loss: 1.0903, Val running loss: 1.0893\n",
      "Epoch: 005, Train running loss: 1.0879, Val running loss: 1.0867\n",
      "Epoch: 006, Train running loss: 1.0871, Val running loss: 1.0851\n",
      "Epoch: 007, Train running loss: 1.0870, Val running loss: 1.0846\n",
      "Epoch: 008, Train running loss: 1.0874, Val running loss: 1.0835\n",
      "Epoch: 009, Train running loss: 1.0868, Val running loss: 1.0796\n",
      "Epoch: 010, Train running loss: 1.0847, Val running loss: 1.0771\n",
      "Epoch: 011, Train running loss: 1.0839, Val running loss: 1.0764\n",
      "Epoch: 012, Train running loss: 1.0775, Val running loss: 1.0758\n",
      "Epoch: 013, Train running loss: 1.0743, Val running loss: 1.0735\n",
      "Epoch: 014, Train running loss: 1.0724, Val running loss: 1.0700\n",
      "Epoch: 015, Train running loss: 1.0716, Val running loss: 1.0690\n",
      "Epoch: 016, Train running loss: 1.0721, Val running loss: 1.0682\n",
      "Epoch: 017, Train running loss: 1.0720, Val running loss: 1.0648\n",
      "Epoch: 018, Train running loss: 1.0707, Val running loss: 1.0622\n",
      "Epoch: 019, Train running loss: 1.0682, Val running loss: 1.0616\n",
      "Epoch: 020, Train running loss: 1.0636, Val running loss: 1.0611\n",
      "Epoch: 021, Train running loss: 1.0612, Val running loss: 1.0579\n",
      "Epoch: 022, Train running loss: 1.0600, Val running loss: 1.0557\n",
      "Epoch: 023, Train running loss: 1.0598, Val running loss: 1.0552\n",
      "Epoch: 024, Train running loss: 1.0599, Val running loss: 1.0543\n",
      "Epoch: 025, Train running loss: 1.0596, Val running loss: 1.0515\n",
      "Epoch: 026, Train running loss: 1.0584, Val running loss: 1.0495\n",
      "Epoch: 027, Train running loss: 1.0562, Val running loss: 1.0485\n",
      "Epoch: 028, Train running loss: 1.0535, Val running loss: 1.0478\n",
      "Epoch: 029, Train running loss: 1.0510, Val running loss: 1.0466\n",
      "Epoch: 030, Train running loss: 1.0494, Val running loss: 1.0450\n",
      "Epoch: 031, Train running loss: 1.0483, Val running loss: 1.0428\n",
      "Epoch: 032, Train running loss: 1.0471, Val running loss: 1.0412\n",
      "Epoch: 033, Train running loss: 1.0458, Val running loss: 1.0395\n",
      "Epoch: 034, Train running loss: 1.0450, Val running loss: 1.0382\n",
      "Epoch: 035, Train running loss: 1.0436, Val running loss: 1.0369\n",
      "Epoch: 036, Train running loss: 1.0422, Val running loss: 1.0364\n",
      "Epoch: 037, Train running loss: 1.0412, Val running loss: 1.0340\n",
      "Epoch: 038, Train running loss: 1.0397, Val running loss: 1.0326\n",
      "Epoch: 039, Train running loss: 1.0385, Val running loss: 1.0320\n",
      "Epoch: 040, Train running loss: 1.0372, Val running loss: 1.0300\n",
      "Epoch: 041, Train running loss: 1.0366, Val running loss: 1.0279\n",
      "Epoch: 042, Train running loss: 1.0366, Val running loss: 1.0261\n",
      "Epoch: 043, Train running loss: 1.0356, Val running loss: 1.0249\n",
      "Epoch: 044, Train running loss: 1.0352, Val running loss: 1.0236\n",
      "Epoch: 045, Train running loss: 1.0348, Val running loss: 1.0226\n",
      "Epoch: 046, Train running loss: 1.0330, Val running loss: 1.0223\n",
      "Epoch: 047, Train running loss: 1.0311, Val running loss: 1.0188\n",
      "Epoch: 048, Train running loss: 1.0315, Val running loss: 1.0167\n",
      "Epoch: 049, Train running loss: 1.0295, Val running loss: 1.0206\n",
      "Epoch: 050, Train running loss: 1.0302, Val running loss: 1.0197\n",
      "  ---  Training Complete!  ---  656.143 seconds.\n",
      "Metric for test: 1.0225\n"
>>>>>>> origin/main
     ]
    }
   ],
   "source": [
    "timestamp = time_func.start_time()\n",
    "\n",
    "train_loss = []\n",
    "valid_loss = []\n",
    "\n",
    "for epoch in range(EPOCHS):\n",
    "    t_loss = train()\n",
    "    v_loss = evaluate(val_loader)\n",
    "    print(f'Epoch: {epoch+1:03d}, Train running loss: {t_loss:.4f}, Val running loss: {v_loss:.4f}')\n",
    "    train_loss.append(t_loss)\n",
    "    valid_loss.append(v_loss)\n",
    "\n",
    "time_func.stop_time(timestamp, \"Training Complete!\")\n",
    "\n",
    "metric = evaluate(test_loader)\n",
    "print(f'Metric for test: {metric:.4f}')"
   ]
  },
  {
   "cell_type": "markdown",
   "id": "07469213-20da-4a74-9219-4521d40a3855",
   "metadata": {},
   "source": [
    "### Comparison plot for train/validation loss"
   ]
  },
  {
   "cell_type": "code",
   "execution_count": null,
   "id": "33d123bb-cdf2-42fc-856a-cbed3dcf6c79",
   "metadata": {
    "tags": []
   },
<<<<<<< HEAD
   "outputs": [],
=======
   "outputs": [
    {
     "data": {
      "image/png": "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",
      "text/plain": [
       "<Figure size 800x400 with 1 Axes>"
      ]
     },
     "metadata": {},
     "output_type": "display_data"
    }
   ],
>>>>>>> origin/main
   "source": [
    "plt.figure(figsize=(8, 4))\n",
    "plt.plot(train_loss, label='Train loss')\n",
    "plt.plot(valid_loss, label='Validation loss')\n",
    "plt.legend(title=\"Loss type: \" + params['loss_op'])\n",
    "\n",
    "if PLOT_SHOW:\n",
    "    plt.show()\n",
    "else:\n",
    "    plt.savefig(PLOT_FOLDER+\"/train_val_losses_demo.png\")\n",
    "    plt.close()"
   ]
  },
  {
   "cell_type": "markdown",
   "id": "6fe13b1a-e3c5-475b-a213-c1bb1b7dbc8b",
   "metadata": {},
   "source": [
    "### Graphical comparison model prediction/ground truth"
   ]
  },
  {
   "cell_type": "code",
<<<<<<< HEAD
   "execution_count": null,
||||||| df80ebd
   "execution_count": 18,
=======
   "execution_count": 18,
   "id": "60d84f40-be8b-4000-b687-0c1e3683f218",
   "metadata": {},
   "outputs": [],
   "source": [
    "timestamp = time_func.start_time()\n",
    "DEVICE=torch.device('cpu')\n",
    "model = model.to(DEVICE)"
   ]
  },
  {
   "cell_type": "code",
   "execution_count": 19,
>>>>>>> origin/main
   "id": "659e033e-9969-491a-ab5e-28800642c34b",
   "metadata": {
    "tags": []
   },
<<<<<<< HEAD
   "outputs": [],
=======
   "outputs": [
    {
     "name": "stderr",
     "output_type": "stream",
     "text": [
      "/home/b/b382485/miniconda3/envs/eddy-tracking-new/lib/python3.11/site-packages/torch_sparse/matmul.py:97: UserWarning: Sparse CSR tensor support is in beta state. If you miss a functionality in the sparse tensor support, please submit a feature request to https://github.com/pytorch/pytorch/issues. (Triggered internally at ../aten/src/ATen/SparseCsrTensorImpl.cpp:53.)\n",
      "  C = torch.sparse.mm(A, B)\n"
     ]
    },
    {
     "name": "stdout",
     "output_type": "stream",
     "text": [
      "tensor([[6.5984e-01, 6.7318e-05, 3.4010e-01],\n",
      "        [7.9536e-01, 8.5197e-10, 2.0464e-01],\n",
      "        [7.4702e-01, 1.9307e-10, 2.5298e-01],\n",
      "        ...,\n",
      "        [5.6598e-01, 2.8133e-01, 1.5269e-01],\n",
      "        [5.7817e-01, 2.7757e-01, 1.4426e-01],\n",
      "        [5.6904e-01, 2.7288e-01, 1.5808e-01]])\n"
     ]
    }
   ],
>>>>>>> origin/main
   "source": [
    "model.eval()\n",
    "with torch.no_grad():\n",
    "    batch = next(iter(test_loader))\n",
    "    batch = batch.to(DEVICE)\n",
    "    pred = model(batch)\n",
    "    print(pred)"
   ]
  },
  {
   "cell_type": "code",
<<<<<<< HEAD
   "execution_count": null,
||||||| df80ebd
   "execution_count": 19,
=======
   "execution_count": 20,
>>>>>>> origin/main
   "id": "21c03a6e-5ec6-477c-8861-df5e4c0cba1e",
   "metadata": {
    "tags": []
   },
   "outputs": [],
   "source": [
    "mesh = xr.open_dataset(MESH_PATH)\n",
    "mesh_lon = mesh.lon[mesh.nodes].values\n",
    "mesh_lat = mesh.lat[mesh.nodes].values"
   ]
  },
  {
   "cell_type": "code",
<<<<<<< HEAD
   "execution_count": null,
||||||| df80ebd
   "execution_count": 20,
=======
   "execution_count": 21,
>>>>>>> origin/main
   "id": "2aeb4196-350b-4cbc-b531-5856a8e45d85",
   "metadata": {
    "tags": []
   },
   "outputs": [],
   "source": [
    "this_target = batch.y[:mesh.dims['nodes_subset']]\n",
    "this_pred = []\n",
    "for p in pred[:mesh.dims['nodes_subset']]:\n",
    "    p = p.tolist()\n",
    "    max_value = max(p)\n",
    "    max_index = p.index(max_value)\n",
    "    this_pred.append(max_index)"
   ]
  },
  {
   "cell_type": "code",
<<<<<<< HEAD
   "execution_count": null,
||||||| df80ebd
   "execution_count": 21,
=======
   "execution_count": 22,
>>>>>>> origin/main
   "id": "b3880b4f-68e4-4e14-a327-8fa3bd407277",
   "metadata": {
    "tags": []
   },
<<<<<<< HEAD
   "outputs": [],
=======
   "outputs": [
    {
     "data": {
      "image/png": "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",
      "text/plain": [
       "<Figure size 1200x1200 with 2 Axes>"
      ]
     },
     "metadata": {},
     "output_type": "display_data"
    },
    {
     "name": "stdout",
     "output_type": "stream",
     "text": [
      "  ---  pred_vs_ground plot created!  ---  37.033 seconds.\n"
     ]
    }
   ],
>>>>>>> origin/main
   "source": [
    "fig, axes = plt.subplots(2, 1, figsize=(12, 12))\n",
    "\n",
    "im = axes[0].scatter(mesh_lon, mesh_lat, c=this_target, s=1)\n",
    "im2 = axes[1].scatter(mesh_lon, mesh_lat, c=this_pred, s=1)\n",
    "\n",
    "if PLOT_SHOW:\n",
    "    plt.show()\n",
    "else:\n",
    "    plt.savefig(PLOT_FOLDER + \"/pred_vs_ground_demo.png\")\n",
    "    plt.close()\n",
    "\n",
    "time_func.stop_time(timestamp, \"pred_vs_ground plot created!\")"
   ]
  },
  {
   "cell_type": "markdown",
   "id": "7015415e-df6a-4d72-9239-0cdd6c971e96",
   "metadata": {},
   "source": [
    "### Accuracy calculation"
   ]
  },
  {
   "cell_type": "code",
<<<<<<< HEAD
   "execution_count": null,
   "id": "83c40334-6b9f-4b86-8220-d845cecc9fe3",
   "metadata": {
    "tags": []
   },
<<<<<<< HEAD
   "outputs": [],
=======
||||||| df80ebd
   "execution_count": 22,
   "id": "83c40334-6b9f-4b86-8220-d845cecc9fe3",
   "metadata": {
    "tags": []
   },
=======
   "execution_count": 23,
   "id": "cf1e5b16-2487-413d-9dc1-94fdb6eb63a6",
   "metadata": {},
   "outputs": [],
   "source": [
    "# Running it on cuda is a huge improvement\n",
    "DEVICE=torch.device('cuda')\n",
    "model = model.to(DEVICE)"
   ]
  },
  {
   "cell_type": "code",
   "execution_count": 24,
   "id": "d6e3276d-c915-48e5-96a6-bff9b4451509",
   "metadata": {},
>>>>>>> origin/main
   "outputs": [
    {
     "name": "stdout",
     "output_type": "stream",
     "text": [
      "Total background cells:\t7727864\n",
      "Correct predictions:\t7647148\n",
      "Total predictions:\t8862832\n",
      "Graph U-Net accuracy:\t86.28%\n",
      "  ---  Accuracy calculated!  ---  2.126 seconds.\n"
     ]
    }
   ],
>>>>>>> origin/main
   "source": [
    "timestamp = time_func.start_time()\n",
    "\n",
    "model.eval()\n",
    "with torch.no_grad():\n",
    "    tot_background = 0\n",
    "    correct_pred = 0\n",
    "    tot_pred = len(test_loader.dataset)*dummy_graph.num_nodes\n",
    "\n",
    "    for batch in test_loader:\n",
    "        batch = batch.to(DEVICE)\n",
    "\n",
    "        pred = model(batch)\n",
    "\n",
    "        _, indices = torch.max(pred, dim=1)\n",
    "\n",
    "        tot_background += (batch.y == 0).sum().item()\n",
    "\n",
    "        # This works because the values in the indices correspond to the values in batch.y\n",
    "        correct_pred += (indices == batch.y).sum().item()\n",
    "\n",
    "    print(f\"Total background cells:\\t{tot_background}\")\n",
    "    print(f\"Correct predictions:\\t{correct_pred}\")\n",
    "    print(f\"Total predictions:\\t{tot_pred}\")\n",
    "    print(f\"Graph U-Net accuracy:\\t{correct_pred/tot_pred*100:.2f}%\")\n",
    "\n",
    "time_func.stop_time(timestamp, \"Accuracy calculated!\")"
   ]
<<<<<<< HEAD
  },
  {
   "cell_type": "code",
   "execution_count": null,
<<<<<<< HEAD
   "id": "c04629d3-e891-4bed-892d-759f71eb15a9",
=======
   "id": "d6e3276d-c915-48e5-96a6-bff9b4451509",
>>>>>>> origin/main
   "metadata": {},
   "outputs": [],
   "source": []
||||||| df80ebd
  },
  {
   "cell_type": "code",
   "execution_count": null,
   "id": "d6e3276d-c915-48e5-96a6-bff9b4451509",
   "metadata": {},
   "outputs": [],
   "source": []
=======
>>>>>>> origin/main
  }
 ],
 "metadata": {
  "kernelspec": {
   "display_name": "eddy-tracking-new",
   "language": "python",
   "name": "eddy-tracking-new"
  },
  "language_info": {
   "codemirror_mode": {
    "name": "ipython",
    "version": 3
   },
   "file_extension": ".py",
   "mimetype": "text/x-python",
   "name": "python",
   "nbconvert_exporter": "python",
   "pygments_lexer": "ipython3",
   "version": "3.11.5"
  }
 },
 "nbformat": 4,
 "nbformat_minor": 5
}
