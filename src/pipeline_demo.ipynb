{
 "cells": [
  {
   "cell_type": "code",
   "execution_count": 1,
   "id": "aed79f1c-2767-4d8d-8988-f7d1cf29ec72",
   "metadata": {
    "tags": []
   },
   "outputs": [],
   "source": [
    "import matplotlib.pyplot as plt\n",
    "import numpy as np\n",
    "import torch\n",
    "import torch_geometric\n",
    "from torch_geometric.loader import DataLoader\n",
    "import yaml\n",
    "\n",
    "import Dataset\n",
    "import Models\n",
    "from utils import time_func"
   ]
  },
  {
   "cell_type": "code",
   "execution_count": 2,
   "id": "1a033a6e-d7e1-43a4-8556-ec00b1761f6b",
   "metadata": {
    "tags": []
   },
   "outputs": [
    {
     "name": "stdout",
     "output_type": "stream",
     "text": [
      "Torch version: 2.0.1+cu117\n",
      "Cuda available: False\n",
      "Cuda version: 11.7\n",
      "Torch geometric version: 2.3.1\n"
     ]
    }
   ],
   "source": [
    "print(f\"Torch version: {torch.__version__}\")\n",
    "print(f\"Cuda available: {torch.cuda.is_available()}\")\n",
    "if torch.cuda.is_available():\n",
    "    print(f\"Cuda device: {torch.cuda.get_device_name()}\")\n",
    "print(f\"Cuda version: {torch.version.cuda}\")\n",
    "print(f\"Torch geometric version: {torch_geometric.__version__}\")"
   ]
  },
  {
   "cell_type": "code",
   "execution_count": 3,
   "id": "335227eb-02db-4fb9-85a6-4af3562ca297",
   "metadata": {
    "tags": []
   },
   "outputs": [
    {
     "data": {
      "text/plain": [
       "device(type='cpu')"
      ]
     },
     "execution_count": 3,
     "metadata": {},
     "output_type": "execute_result"
    }
   ],
   "source": [
    "DEVICE = torch.device('cuda' if torch.cuda.is_available() else 'cpu')\n",
    "DEVICE"
   ]
  },
  {
   "cell_type": "code",
   "execution_count": 4,
   "id": "32eb1309-2482-472b-aac9-799c45dca7ff",
   "metadata": {
    "tags": []
   },
   "outputs": [],
   "source": [
    "PARAMS = yaml.safe_load(open('./config_pipeline.yaml'))\n",
    "\n",
    "DATA_PATH = PARAMS['input_subset_pre_processed']\n",
    "MESH_PATH = PARAMS['input_subset_grid']\n",
    "\n",
    "ON_CLUSTER = False\n",
    "PLOT_VERTICAL = True\n",
    "\n",
    "HID_CHANNELS = PARAMS['hid_channels']\n",
    "N_CLASSES = PARAMS['n_classes']\n",
    "TRAIN_BATCH_SIZE = PARAMS['train_batch_size']\n",
    "TEST_BATCH_SIZE = PARAMS['test_batch_size']\n",
    "VALID_BATCH_SIZE = PARAMS['valid_batch_size']\n",
    "\n",
    "if PARAMS['final_act'] == \"sigmoid\":\n",
    "    FINAL_ACTIVATION = torch.sigmoid\n",
    "elif PARAMS['final_act'] == \"linear\":\n",
    "    FINAL_ACTIVATION = torch.nn.Linear(1, 1)\n",
    "\n",
    "train_set = []\n",
    "valid_set = []\n",
    "test_set = []\n",
    "\n",
    "graph_dict = {}\n",
    "n_features = None # TODO FIX\n",
    "\n",
    "#TIMESTAMP = time_func.start_time() # TODO test for performances"
   ]
  },
  {
   "cell_type": "markdown",
   "id": "a8009f87-209a-4138-9f7d-9428780d3b3f",
   "metadata": {},
   "source": [
    "### Dataset instantiation"
   ]
  },
  {
   "cell_type": "code",
   "execution_count": 5,
   "id": "5dcbd3fe-b76f-49eb-9921-24a6013db352",
   "metadata": {
    "tags": []
   },
   "outputs": [
    {
     "name": "stderr",
     "output_type": "stream",
     "text": [
      "Processing...\n"
     ]
    },
    {
     "name": "stdout",
     "output_type": "stream",
     "text": [
      "    Shape of node feature matrix: torch.Size([757747])\n",
      "    Shape of graph connectivity in COO format: torch.Size([2, 4537526])\n",
      "    Shape of labels: torch.Size([757747])\n",
      "  ---  Dataset creation  ---  58.887 seconds.\n"
     ]
    },
    {
     "name": "stderr",
     "output_type": "stream",
     "text": [
      "Done!\n"
     ]
    }
   ],
   "source": [
    "timestamp = time_func.start_time()\n",
    "dataset = Dataset.PilotDataset(root=DATA_PATH, mesh_path=MESH_PATH)\n",
    "time_func.stop_time(timestamp, \"Dataset creation\")"
   ]
  },
  {
   "cell_type": "code",
   "execution_count": 8,
   "id": "ecddd2b0-4ea7-4923-821a-5f26e56edd5a",
   "metadata": {
    "tags": []
   },
   "outputs": [
    {
     "name": "stdout",
     "output_type": "stream",
     "text": [
      "False\n"
     ]
    }
   ],
   "source": [
    "file = dataset.get(2015, 1, 1)\n",
    "print(file.is_directed())"
   ]
  }
 ],
 "metadata": {
  "kernelspec": {
   "display_name": "eddy-tracking",
   "language": "python",
   "name": "eddy-tracking"
  },
  "language_info": {
   "codemirror_mode": {
    "name": "ipython",
    "version": 3
   },
   "file_extension": ".py",
   "mimetype": "text/x-python",
   "name": "python",
   "nbconvert_exporter": "python",
   "pygments_lexer": "ipython3",
   "version": "3.8.17"
  }
 },
 "nbformat": 4,
 "nbformat_minor": 5
}
