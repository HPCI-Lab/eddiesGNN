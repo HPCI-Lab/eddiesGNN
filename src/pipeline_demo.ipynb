{
 "cells": [
  {
   "cell_type": "code",
   "execution_count": 1,
   "id": "aed79f1c-2767-4d8d-8988-f7d1cf29ec72",
   "metadata": {
    "tags": []
   },
   "outputs": [],
   "source": [
    "import matplotlib.pyplot as plt\n",
    "import numpy as np\n",
    "import os\n",
    "import sys\n",
    "import torch\n",
    "import torch_geometric\n",
    "from torch_geometric.loader import DataLoader\n",
    "from torch_geometric.nn import summary\n",
    "import yaml\n",
    "\n",
    "import Dataset\n",
    "import Models\n",
    "from utils import time_func"
   ]
  },
  {
   "cell_type": "code",
   "execution_count": 2,
   "id": "1a033a6e-d7e1-43a4-8556-ec00b1761f6b",
   "metadata": {
    "tags": []
   },
   "outputs": [
    {
     "name": "stdout",
     "output_type": "stream",
     "text": [
      "Torch version: 2.0.1+cu117\n",
      "Cuda available: False\n",
      "Cuda version: 11.7\n",
      "Torch geometric version: 2.3.1\n"
     ]
    }
   ],
   "source": [
    "print(f\"Torch version: {torch.__version__}\")\n",
    "print(f\"Cuda available: {torch.cuda.is_available()}\")\n",
    "if torch.cuda.is_available():\n",
    "    print(f\"Cuda device: {torch.cuda.get_device_name()}\")\n",
    "print(f\"Cuda version: {torch.version.cuda}\")\n",
    "print(f\"Torch geometric version: {torch_geometric.__version__}\")"
   ]
  },
  {
   "cell_type": "code",
   "execution_count": 3,
   "id": "335227eb-02db-4fb9-85a6-4af3562ca297",
   "metadata": {
    "tags": []
   },
   "outputs": [
    {
     "data": {
      "text/plain": [
       "device(type='cpu')"
      ]
     },
     "execution_count": 3,
     "metadata": {},
     "output_type": "execute_result"
    }
   ],
   "source": [
    "DEVICE = torch.device('cuda' if torch.cuda.is_available() else 'cpu')\n",
    "DEVICE"
   ]
  },
  {
   "cell_type": "code",
   "execution_count": 4,
   "id": "32eb1309-2482-472b-aac9-799c45dca7ff",
   "metadata": {
    "tags": []
   },
   "outputs": [],
   "source": [
    "params = yaml.safe_load(open('./config/pipeline.yaml'))\n",
    "\n",
    "DATA_PATH = params['input_subset_pre_processed']\n",
    "MESH_PATH = params['input_subset_grid']\n",
    "\n",
    "TRAIN_PROP = params['train_prop']\n",
    "VAL_PROP = params['val_prop']\n",
    "TEST_PROP = params['test_prop']\n",
    "\n",
    "TRAIN_BATCH_SIZE = params['train_batch_size']\n",
    "VAL_BATCH_SIZE = params['val_batch_size']\n",
    "TEST_BATCH_SIZE = params['test_batch_size']\n",
    "\n",
    "# TODO use these\n",
    "N_FEATURES = params['n_features']\n",
    "HID_CHANNELS = params['hid_channels']\n",
    "N_CLASSES = params['n_classes']\n",
    "\n",
    "FINAL_ACT = None\n",
    "if params['final_act'] == \"sigmoid\":\n",
    "    FINAL_ACT = torch.sigmoid\n",
    "elif params['final_act'] == \"linear\":\n",
    "    FINAL_ACT = torch.nn.Linear(1, 1)\n",
    "\n",
    "LOSS_OP = None\n",
    "if params['loss_op'] == \"BCE\":\n",
    "    LOSS_OP = torch.nn.BCELoss()\n",
    "\n",
    "OPTIMIZER = None\n",
    "if params['optimizer'] == \"Adam\":\n",
    "    OPTIMIZER = torch.optim.Adam\n",
    "\n",
    "LEARN_RATE = params['learn_rate']\n",
    "\n",
    "# TODO use these\n",
    "PLOT_SHOW = params['plot_show']\n",
    "PLOT_VERTICAL = params['plot_vertical']\n",
    "\n",
    "#TIMESTAMP = time_func.start_time() # TODO test for performances"
   ]
  },
  {
   "cell_type": "markdown",
   "id": "a8009f87-209a-4138-9f7d-9428780d3b3f",
   "metadata": {},
   "source": [
    "### Dataset creation"
   ]
  },
  {
   "cell_type": "code",
   "execution_count": 5,
   "id": "5dcbd3fe-b76f-49eb-9921-24a6013db352",
   "metadata": {
    "tags": []
   },
   "outputs": [
    {
     "name": "stdout",
     "output_type": "stream",
     "text": [
      "  ---  Dataset creation  ---  0.421 seconds.\n"
     ]
    }
   ],
   "source": [
    "timestamp = time_func.start_time()\n",
    "dataset = Dataset.PilotDataset(root=DATA_PATH, mesh_path=MESH_PATH)\n",
    "time_func.stop_time(timestamp, \"Dataset creation\")"
   ]
  },
  {
   "cell_type": "markdown",
   "id": "af65efdf-cfde-4feb-8cd3-f240636c1c34",
   "metadata": {},
   "source": [
    "### Testing some parameters and orientation of graph edges"
   ]
  },
  {
   "cell_type": "code",
   "execution_count": 6,
   "id": "764f45a6-dfe7-4fa7-b892-5dbc756db97c",
   "metadata": {
    "tags": []
   },
   "outputs": [],
   "source": [
    "if (TRAIN_PROP+VAL_PROP+TEST_PROP) != 100:\n",
    "    raise ValueError(f\"Sum of train-val-test proportions with value {TRAIN_PROP+VAL_PROP+TEST_PROP} is different from 1\")\n",
    "\n",
    "if FINAL_ACT == None:\n",
    "    raise ValueError(f\"Parameter 'final_act' is invalid with value {params['final_act']}\")\n",
    "\n",
    "if LOSS_OP == None:\n",
    "    raise ValueError(f\"Parameter 'loss_op' is invalid with value {params['loss_op']}\")\n",
    "\n",
    "if OPTIMIZER == None:\n",
    "    raise ValueError(f\"Parameter 'optimizer' is invalid with value {params['optimizer']}\")\n",
    "\n",
    "dummy_graph = dataset.get(year=2015, month=1, day=1)\n",
    "\n",
    "if dummy_graph.num_features != N_FEATURES:\n",
    "    raise ValueError(f\"Graph num_features is different from parameter N_FEATURES: ({dummy_graph.num_features} != {N_FEATURES})\")\n",
    "\n",
    "if dummy_graph.is_directed():\n",
    "    raise ValueError(\"Graph edges are directed!\")"
   ]
  },
  {
   "cell_type": "markdown",
   "id": "a1b756f7-7799-4dc8-b40a-aaef3b1ce904",
   "metadata": {},
   "source": [
    "### Train-validation-test split"
   ]
  },
  {
   "cell_type": "code",
   "execution_count": 7,
   "id": "c75acabe-119b-447b-af35-c95720824400",
   "metadata": {
    "tags": []
   },
   "outputs": [],
   "source": [
    "# These files are useless(for now?)\n",
    "graph_names = os.listdir(dataset.processed_dir)\n",
    "if 'pre_filter.pt' in graph_names: os.remove(dataset.processed_dir+'/pre_filter.pt')\n",
    "if 'pre_transform.pt' in graph_names: os.remove(dataset.processed_dir+'/pre_transform.pt')"
   ]
  },
  {
   "cell_type": "code",
   "execution_count": 8,
   "id": "8bb48de5-b562-4ef0-a9bd-60c81a6e8e65",
   "metadata": {
    "tags": []
   },
   "outputs": [
    {
     "name": "stdout",
     "output_type": "stream",
     "text": [
      "1\n",
      "2\n",
      "3\n",
      "4\n",
      "5\n",
      "6\n",
      "7\n",
      "8\n",
      "9\n",
      "10\n",
      "11\n",
      "12\n",
      "304 30 31\n",
      "5 1 1\n"
     ]
    }
   ],
   "source": [
    "train_set = []\n",
    "val_set = []\n",
    "test_set = []\n",
    "train_months = [1, 2, 3, 4, 5, 6, 7, 8, 9, 10]\n",
    "val_months = [11]\n",
    "test_months = [12]\n",
    "\n",
    "for m in train_months:\n",
    "    train_set += dataset.get_all(year=2015, month=m)\n",
    "    print(m)\n",
    "    \n",
    "for m in val_months:\n",
    "    val_set += dataset.get_all(year=2015, month=m)\n",
    "    print(m)\n",
    "\n",
    "for m in test_months:\n",
    "    test_set += dataset.get_all(year=2015, month=m)\n",
    "    print(m)\n",
    "\n",
    "print(len(train_set), len(val_set), len(test_set))\n",
    "\n",
    "train_loader = DataLoader(train_set, batch_size=TRAIN_BATCH_SIZE, shuffle=True)\n",
    "val_loader = DataLoader(val_set, batch_size=VAL_BATCH_SIZE, shuffle=False)\n",
    "test_loader = DataLoader(test_set, batch_size=TEST_BATCH_SIZE, shuffle=False)\n",
    "\n",
    "print(len(train_loader), len(val_loader), len(test_loader))"
   ]
  },
  {
   "cell_type": "code",
   "execution_count": 9,
   "id": "85651733-4eb8-4ce1-81b4-66c214b8a061",
   "metadata": {
    "tags": []
   },
   "outputs": [
    {
     "data": {
      "text/plain": [
       "'\\n# Snippet for dataset split\\n# To use every available sample, n_test gets all the remanining\\nn_train = round(dataset.len()*TRAIN_PROP/100)\\nn_val = round(dataset.len()*VAL_PROP/100)\\nn_test = dataset.len()-n_train-n_val\\nprint(n_train, n_val, n_test, (n_train+n_val+n_test))\\n'"
      ]
     },
     "execution_count": 9,
     "metadata": {},
     "output_type": "execute_result"
    }
   ],
   "source": [
    "'''\n",
    "# Snippet for dataset split\n",
    "# To use every available sample, n_test gets all the remanining\n",
    "n_train = round(dataset.len()*TRAIN_PROP/100)\n",
    "n_val = round(dataset.len()*VAL_PROP/100)\n",
    "n_test = dataset.len()-n_train-n_val\n",
    "print(n_train, n_val, n_test, (n_train+n_val+n_test))\n",
    "'''"
   ]
  },
  {
   "cell_type": "markdown",
   "id": "10f3de1d-9864-4536-b634-e05635056e20",
   "metadata": {
    "tags": []
   },
   "source": [
    "### Model instantiation"
   ]
  },
  {
   "cell_type": "code",
   "execution_count": 10,
   "id": "ed6db1ea-a1d4-4793-a665-838c3df37dd7",
   "metadata": {
    "tags": []
   },
   "outputs": [
    {
     "name": "stdout",
     "output_type": "stream",
     "text": [
      "GUNet instantiated!\n",
      "\tMiddle act: relu\n",
      "\tFinal act: torch\n"
     ]
    },
    {
     "data": {
      "text/plain": [
       "GUNet(\n",
       "  (unet): GraphUNet(1, 32, 1, depth=3, pool_ratios=[0.002639403389257892, 0.5, 0.5])\n",
       ")"
      ]
     },
     "execution_count": 10,
     "metadata": {},
     "output_type": "execute_result"
    }
   ],
   "source": [
    "Model = Models.GUNet\n",
    "\n",
    "model = Model(\n",
    "    in_channels = N_FEATURES,\n",
    "    hidden_channels = HID_CHANNELS,\n",
    "    out_channels = N_CLASSES,\n",
    "    num_nodes = dummy_graph.num_nodes,   # TODO can put these in Dataset.py\n",
    "    final_act = FINAL_ACT\n",
    ").to(DEVICE)\n",
    "\n",
    "model"
   ]
  },
  {
   "cell_type": "code",
   "execution_count": 11,
   "id": "b39dc66b-4924-4ada-862c-e75be6e678f2",
   "metadata": {
    "tags": []
   },
   "outputs": [
    {
     "name": "stderr",
     "output_type": "stream",
     "text": [
      "/home/b/b382485/miniconda3/envs/eddy-tracking/lib/python3.8/site-packages/torch_sparse/matmul.py:97: UserWarning: Sparse CSR tensor support is in beta state. If you miss a functionality in the sparse tensor support, please submit a feature request to https://github.com/pytorch/pytorch/issues. (Triggered internally at ../aten/src/ATen/SparseCsrTensorImpl.cpp:54.)\n",
      "  C = torch.sparse.mm(A, B)\n"
     ]
    },
    {
     "data": {
      "text/plain": [
       "'+-------------------------------+---------------------------------------------------+---------------------------------------------------------+----------+\\n| Layer                         | Input Shape                                       | Output Shape                                            | #Param   |\\n|-------------------------------+---------------------------------------------------+---------------------------------------------------------+----------|\\n| GUNet                         | [757747, 757747]                                  | [757747, 1]                                             | 5,473    |\\n| ├─(unet)GraphUNet             | [757747, 1], [2, 4537526]                         | [757747, 1]                                             | 5,473    |\\n| │    └─(down_convs)ModuleList | --                                                | --                                                      | 3,232    |\\n| │    │    └─(0)GCNConv        | [757747, 1], [2, 4537526], [4537526]              | [757747, 32]                                            | 64       |\\n| │    │    └─(1)GCNConv        | [2000, 32], [2, 12260], [12260]                   | [2000, 32]                                              | 1,056    |\\n| │    │    └─(2)GCNConv        | [1000, 32], [2, 7982], [7982]                     | [1000, 32]                                              | 1,056    |\\n| │    │    └─(3)GCNConv        | [500, 32], [2, 5084], [5084]                      | [500, 32]                                               | 1,056    |\\n| │    └─(pools)ModuleList      | --                                                | --                                                      | 96       |\\n| │    │    └─(0)TopKPooling    | [757747, 32], [2, 13616956], [13616956], [757747] | [2000, 32], [2, 12260], [12260], [2000], [2000], [2000] | 32       |\\n| │    │    └─(1)TopKPooling    | [2000, 32], [2, 21156], [21156], [2000]           | [1000, 32], [2, 7982], [7982], [1000], [1000], [1000]   | 32       |\\n| │    │    └─(2)TopKPooling    | [1000, 32], [2, 12474], [12474], [1000]           | [500, 32], [2, 5084], [5084], [500], [500], [500]       | 32       |\\n| │    └─(up_convs)ModuleList   | --                                                | --                                                      | 2,145    |\\n| │    │    └─(0)GCNConv        | [1000, 32], [2, 7982], [7982]                     | [1000, 32]                                              | 1,056    |\\n| │    │    └─(1)GCNConv        | [2000, 32], [2, 12260], [12260]                   | [2000, 32]                                              | 1,056    |\\n| │    │    └─(2)GCNConv        | [757747, 32], [2, 4537526], [4537526]             | [757747, 1]                                             | 33       |\\n+-------------------------------+---------------------------------------------------+---------------------------------------------------------+----------+'"
      ]
     },
     "execution_count": 11,
     "metadata": {},
     "output_type": "execute_result"
    }
   ],
   "source": [
    "summary(model, dummy_graph)"
   ]
  },
  {
   "cell_type": "markdown",
   "id": "3dc09936-0b86-4ac6-83a9-014239ce3675",
   "metadata": {},
   "source": [
    "### Optimizer"
   ]
  },
  {
   "cell_type": "code",
   "execution_count": 12,
   "id": "18c4bc3e-ff40-44eb-8e85-21bf090eaa05",
   "metadata": {
    "tags": []
   },
   "outputs": [],
   "source": [
    "OPTIMIZER = OPTIMIZER(model.parameters(), lr=LEARN_RATE)"
   ]
  },
  {
   "cell_type": "markdown",
   "id": "78dba108-aab1-4308-8ef1-f9af1595b818",
   "metadata": {},
   "source": [
    "### Train function"
   ]
  },
  {
   "cell_type": "code",
   "execution_count": null,
   "id": "ba5d99c5-5c07-494b-8eb4-849741d46173",
   "metadata": {
    "tags": []
   },
   "outputs": [],
   "source": []
  },
  {
   "cell_type": "code",
   "execution_count": null,
   "id": "9433cc2f-3e84-42cc-b6c2-88d60511c128",
   "metadata": {},
   "outputs": [],
   "source": []
  }
 ],
 "metadata": {
  "kernelspec": {
   "display_name": "eddy-tracking",
   "language": "python",
   "name": "eddy-tracking"
  },
  "language_info": {
   "codemirror_mode": {
    "name": "ipython",
    "version": 3
   },
   "file_extension": ".py",
   "mimetype": "text/x-python",
   "name": "python",
   "nbconvert_exporter": "python",
   "pygments_lexer": "ipython3",
   "version": "3.8.17"
  }
 },
 "nbformat": 4,
 "nbformat_minor": 5
}
