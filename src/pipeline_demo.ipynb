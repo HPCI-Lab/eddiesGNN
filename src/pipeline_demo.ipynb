{
 "cells": [
  {
   "cell_type": "code",
   "execution_count": 1,
   "id": "aed79f1c-2767-4d8d-8988-f7d1cf29ec72",
   "metadata": {
    "tags": []
   },
   "outputs": [],
   "source": [
    "import matplotlib.pyplot as plt\n",
    "import numpy as np\n",
    "import os\n",
    "import sys\n",
    "import torch\n",
    "import torch_geometric\n",
    "from torch_geometric.loader import DataLoader\n",
    "from torch_geometric.nn import summary\n",
    "import yaml\n",
    "\n",
    "import Dataset\n",
    "import Models\n",
    "from utils import time_func"
   ]
  },
  {
   "cell_type": "code",
   "execution_count": 2,
   "id": "1a033a6e-d7e1-43a4-8556-ec00b1761f6b",
   "metadata": {
    "tags": []
   },
   "outputs": [
    {
     "name": "stdout",
     "output_type": "stream",
     "text": [
      "Torch version: 2.0.1+cu117\n",
      "Cuda available: False\n",
      "Cuda version: 11.7\n",
      "Torch geometric version: 2.3.1\n"
     ]
    }
   ],
   "source": [
    "print(f\"Torch version: {torch.__version__}\")\n",
    "print(f\"Cuda available: {torch.cuda.is_available()}\")\n",
    "if torch.cuda.is_available():\n",
    "    print(f\"Cuda device: {torch.cuda.get_device_name()}\")\n",
    "print(f\"Cuda version: {torch.version.cuda}\")\n",
    "print(f\"Torch geometric version: {torch_geometric.__version__}\")"
   ]
  },
  {
   "cell_type": "code",
   "execution_count": 3,
   "id": "335227eb-02db-4fb9-85a6-4af3562ca297",
   "metadata": {
    "tags": []
   },
   "outputs": [
    {
     "data": {
      "text/plain": [
       "device(type='cpu')"
      ]
     },
     "execution_count": 3,
     "metadata": {},
     "output_type": "execute_result"
    }
   ],
   "source": [
    "DEVICE = torch.device('cuda' if torch.cuda.is_available() else 'cpu')\n",
    "DEVICE"
   ]
  },
  {
   "cell_type": "code",
   "execution_count": 4,
   "id": "32eb1309-2482-472b-aac9-799c45dca7ff",
   "metadata": {
    "tags": []
   },
   "outputs": [],
   "source": [
    "params = yaml.safe_load(open('./config/pipeline.yaml'))\n",
    "\n",
    "DATA_PATH = params['input_subset_pre_processed']\n",
    "MESH_PATH = params['input_subset_grid']\n",
    "\n",
    "TRAIN_PROP = params['train_prop']\n",
    "VAL_PROP = params['val_prop']\n",
    "TEST_PROP = params['test_prop']\n",
    "\n",
    "TRAIN_BATCH_SIZE = params['train_batch_size']\n",
    "VAL_BATCH_SIZE = params['val_batch_size']\n",
    "TEST_BATCH_SIZE = params['test_batch_size']\n",
    "\n",
    "# TODO use these\n",
    "N_FEATURES = params['n_features']\n",
    "HID_CHANNELS = params['hid_channels']\n",
    "N_CLASSES = params['n_classes']\n",
    "\n",
    "FINAL_ACT = None\n",
    "if params['final_act'] == \"sigmoid\":\n",
    "    FINAL_ACT = torch.sigmoid\n",
    "elif params['final_act'] == \"linear\":\n",
    "    FINAL_ACT = torch.nn.Linear(1, 1)\n",
    "\n",
    "LOSS_OP = None\n",
    "if params['loss_op'] == \"CE\":\n",
    "    LOSS_OP = torch.nn.CrossEntropyLoss()\n",
    "\n",
    "OPTIMIZER = None\n",
    "if params['optimizer'] == \"Adam\":\n",
    "    OPTIMIZER = torch.optim.Adam\n",
    "\n",
    "LEARN_RATE = params['learn_rate']\n",
    "\n",
    "# TODO use these\n",
    "PLOT_SHOW = params['plot_show']\n",
    "PLOT_VERTICAL = params['plot_vertical']\n",
    "\n",
    "TIMESTAMP = time_func.start_time()"
   ]
  },
  {
   "cell_type": "markdown",
   "id": "a8009f87-209a-4138-9f7d-9428780d3b3f",
   "metadata": {},
   "source": [
    "### Dataset creation"
   ]
  },
  {
   "cell_type": "code",
   "execution_count": 5,
   "id": "5dcbd3fe-b76f-49eb-9921-24a6013db352",
   "metadata": {
    "tags": []
   },
   "outputs": [
    {
     "name": "stdout",
     "output_type": "stream",
     "text": [
      "train:  256  val:  73  test:  36\n",
      "    Shape of node feature matrix: torch.Size([757747, 1])\n",
      "    Shape of graph connectivity in COO format: torch.Size([2, 4537526])\n",
      "    Shape of labels: torch.Size([757747])\n",
      "train:  256  val:  73  test:  36\n",
      "train:  256  val:  73  test:  36\n",
      "  ---  Datasets creation  ---  0.307 seconds.\n"
     ]
    }
   ],
   "source": [
    "timestamp = time_func.start_time()\n",
    "train_dataset = Dataset.EddyDataset(root=DATA_PATH, mesh_path=MESH_PATH, split='train')\n",
    "val_dataset = Dataset.EddyDataset(root=DATA_PATH, mesh_path=MESH_PATH, split='val')\n",
    "test_dataset = Dataset.EddyDataset(root=DATA_PATH, mesh_path=MESH_PATH, split='test')\n",
    "time_func.stop_time(timestamp, \"Datasets creation\")"
   ]
  },
  {
   "cell_type": "code",
   "execution_count": 6,
   "id": "0e716ee0-b006-4e55-a44f-73a6e30de341",
   "metadata": {
    "tags": []
   },
   "outputs": [
    {
     "name": "stdout",
     "output_type": "stream",
     "text": [
      "256 73 36\n"
     ]
    }
   ],
   "source": [
    "print(train_dataset.len(), val_dataset.len(), test_dataset.len())"
   ]
  },
  {
   "cell_type": "code",
   "execution_count": 7,
   "id": "5b5f242e-536a-4030-868e-76c41aae95cc",
   "metadata": {
    "tags": []
   },
   "outputs": [
    {
     "data": {
      "text/plain": [
       "Data(x=[757747, 1], edge_index=[2, 4537526], y=[757747])"
      ]
     },
     "execution_count": 7,
     "metadata": {},
     "output_type": "execute_result"
    }
   ],
   "source": [
    "val_dataset[25]"
   ]
  },
  {
   "cell_type": "markdown",
   "id": "af65efdf-cfde-4feb-8cd3-f240636c1c34",
   "metadata": {},
   "source": [
    "### Testing some parameters and orientation of graph edges"
   ]
  },
  {
   "cell_type": "code",
   "execution_count": 8,
   "id": "764f45a6-dfe7-4fa7-b892-5dbc756db97c",
   "metadata": {
    "tags": []
   },
   "outputs": [],
   "source": [
    "if (TRAIN_PROP+VAL_PROP+TEST_PROP) != 100:\n",
    "    raise ValueError(f\"Sum of train-val-test proportions with value {TRAIN_PROP+VAL_PROP+TEST_PROP} is different from 1\")\n",
    "\n",
    "if FINAL_ACT == None:\n",
    "    raise ValueError(f\"Parameter 'final_act' is invalid with value {params['final_act']}\")\n",
    "\n",
    "if LOSS_OP == None:\n",
    "    raise ValueError(f\"Parameter 'loss_op' is invalid with value {params['loss_op']}\")\n",
    "\n",
    "if OPTIMIZER == None:\n",
    "    raise ValueError(f\"Parameter 'optimizer' is invalid with value {params['optimizer']}\")\n",
    "\n",
    "dummy_graph = train_dataset[0]\n",
    "\n",
    "if dummy_graph.num_features != N_FEATURES:\n",
    "    raise ValueError(f\"Graph num_features is different from parameter N_FEATURES: ({dummy_graph.num_features} != {N_FEATURES})\")\n",
    "\n",
    "if dummy_graph.is_directed():\n",
    "    raise ValueError(\"Graph edges are directed!\")"
   ]
  },
  {
   "cell_type": "markdown",
   "id": "a1b756f7-7799-4dc8-b40a-aaef3b1ce904",
   "metadata": {},
   "source": [
    "### Train-validation-test split"
   ]
  },
  {
   "cell_type": "code",
   "execution_count": 9,
   "id": "0d40cf8d-1eb2-4177-9830-0fac421de7de",
   "metadata": {
    "tags": []
   },
   "outputs": [
    {
     "name": "stdout",
     "output_type": "stream",
     "text": [
      "256 73 36\n"
     ]
    }
   ],
   "source": [
    "train_loader = DataLoader(train_dataset, batch_size=TRAIN_BATCH_SIZE, shuffle=True)\n",
    "val_loader = DataLoader(val_dataset, batch_size=VAL_BATCH_SIZE, shuffle=False)\n",
    "test_loader = DataLoader(test_dataset, batch_size=TEST_BATCH_SIZE, shuffle=False)\n",
    "\n",
    "print(len(train_loader.dataset), len(val_loader.dataset), len(test_loader.dataset))"
   ]
  },
  {
   "cell_type": "markdown",
   "id": "10f3de1d-9864-4536-b634-e05635056e20",
   "metadata": {
    "tags": []
   },
   "source": [
    "### Model instantiation"
   ]
  },
  {
   "cell_type": "code",
   "execution_count": 10,
   "id": "ed6db1ea-a1d4-4793-a665-838c3df37dd7",
   "metadata": {
    "tags": []
   },
   "outputs": [
    {
     "name": "stdout",
     "output_type": "stream",
     "text": [
      "GUNet instantiated!\n",
      "\tMiddle act: relu\n",
      "\tFinal act: torch\n"
     ]
    },
    {
     "data": {
      "text/plain": [
       "GUNet(\n",
       "  (unet): GraphUNet(1, 32, 3, depth=3, pool_ratios=[0.002639403389257892, 0.5, 0.5])\n",
       ")"
      ]
     },
     "execution_count": 10,
     "metadata": {},
     "output_type": "execute_result"
    }
   ],
   "source": [
    "Model = Models.GUNet\n",
    "\n",
    "model = Model(\n",
    "    in_channels = N_FEATURES,\n",
    "    hidden_channels = HID_CHANNELS,\n",
    "    out_channels = N_CLASSES,\n",
    "    num_nodes = dummy_graph.num_nodes,   # TODO can put these in Dataset.py\n",
    "    final_act = FINAL_ACT\n",
    ").to(DEVICE)\n",
    "\n",
    "model"
   ]
  },
  {
   "cell_type": "code",
   "execution_count": 11,
   "id": "b39dc66b-4924-4ada-862c-e75be6e678f2",
   "metadata": {
    "tags": []
   },
   "outputs": [
    {
     "name": "stderr",
     "output_type": "stream",
     "text": [
      "/home/b/b382485/miniconda3/envs/eddy-tracking/lib/python3.8/site-packages/torch_sparse/matmul.py:97: UserWarning: Sparse CSR tensor support is in beta state. If you miss a functionality in the sparse tensor support, please submit a feature request to https://github.com/pytorch/pytorch/issues. (Triggered internally at ../aten/src/ATen/SparseCsrTensorImpl.cpp:54.)\n",
      "  C = torch.sparse.mm(A, B)\n"
     ]
    },
    {
     "name": "stdout",
     "output_type": "stream",
     "text": [
      "+-------------------------------+---------------------------------------------------+---------------------------------------------------------+----------+\n",
      "| Layer                         | Input Shape                                       | Output Shape                                            | #Param   |\n",
      "|-------------------------------+---------------------------------------------------+---------------------------------------------------------+----------|\n",
      "| GUNet                         | [757747, 757747]                                  | [757747, 3]                                             | 5,539    |\n",
      "| ├─(unet)GraphUNet             | [757747, 1], [2, 4537526]                         | [757747, 3]                                             | 5,539    |\n",
      "| │    └─(down_convs)ModuleList | --                                                | --                                                      | 3,232    |\n",
      "| │    │    └─(0)GCNConv        | [757747, 1], [2, 4537526], [4537526]              | [757747, 32]                                            | 64       |\n",
      "| │    │    └─(1)GCNConv        | [2000, 32], [2, 30166], [30166]                   | [2000, 32]                                              | 1,056    |\n",
      "| │    │    └─(2)GCNConv        | [1000, 32], [2, 26738], [26738]                   | [1000, 32]                                              | 1,056    |\n",
      "| │    │    └─(3)GCNConv        | [500, 32], [2, 13368], [13368]                    | [500, 32]                                               | 1,056    |\n",
      "| │    └─(pools)ModuleList      | --                                                | --                                                      | 96       |\n",
      "| │    │    └─(0)TopKPooling    | [757747, 32], [2, 13616956], [13616956], [757747] | [2000, 32], [2, 30166], [30166], [2000], [2000], [2000] | 32       |\n",
      "| │    │    └─(1)TopKPooling    | [2000, 32], [2, 87426], [87426], [2000]           | [1000, 32], [2, 26738], [26738], [1000], [1000], [1000] | 32       |\n",
      "| │    │    └─(2)TopKPooling    | [1000, 32], [2, 56744], [56744], [1000]           | [500, 32], [2, 13368], [13368], [500], [500], [500]     | 32       |\n",
      "| │    └─(up_convs)ModuleList   | --                                                | --                                                      | 2,211    |\n",
      "| │    │    └─(0)GCNConv        | [1000, 32], [2, 26738], [26738]                   | [1000, 32]                                              | 1,056    |\n",
      "| │    │    └─(1)GCNConv        | [2000, 32], [2, 30166], [30166]                   | [2000, 32]                                              | 1,056    |\n",
      "| │    │    └─(2)GCNConv        | [757747, 32], [2, 4537526], [4537526]             | [757747, 3]                                             | 99       |\n",
      "+-------------------------------+---------------------------------------------------+---------------------------------------------------------+----------+\n"
     ]
    }
   ],
   "source": [
    "if torch.cuda.is_available():\n",
    "    #print(\"torch.cuda.memory_allocated: %fGB\"%(torch.cuda.memory_allocated(0)/1024/1024/1024))\n",
    "    #print(\"torch.cuda.memory_reserved: %fGB\"%(torch.cuda.memory_reserved(0)/1024/1024/1024))\n",
    "    #print(\"torch.cuda.max_memory_reserved: %fGB\"%(torch.cuda.max_memory_reserved(0)/1024/1024/1024))\n",
    "    print(torch.cuda.memory_summary())\n",
    "else:\n",
    "    print(summary(model, dummy_graph))"
   ]
  },
  {
   "cell_type": "markdown",
   "id": "3dc09936-0b86-4ac6-83a9-014239ce3675",
   "metadata": {},
   "source": [
    "### Optimizer"
   ]
  },
  {
   "cell_type": "code",
   "execution_count": 12,
   "id": "18c4bc3e-ff40-44eb-8e85-21bf090eaa05",
   "metadata": {
    "tags": []
   },
   "outputs": [],
   "source": [
    "OPTIMIZER = OPTIMIZER(model.parameters(), lr=LEARN_RATE)"
   ]
  },
  {
   "cell_type": "markdown",
   "id": "78dba108-aab1-4308-8ef1-f9af1595b818",
   "metadata": {},
   "source": [
    "### Train function"
   ]
  },
  {
   "cell_type": "code",
   "execution_count": 13,
   "id": "ba5d99c5-5c07-494b-8eb4-849741d46173",
   "metadata": {
    "tags": []
   },
   "outputs": [],
   "source": [
    "def train():\n",
    "    model.train()\n",
    "    total_loss = 0\n",
    "\n",
    "    for batch in train_loader:\n",
    "        batch = batch.to(DEVICE)\n",
    "\n",
    "        # zero the parameter gradients\n",
    "        OPTIMIZER.zero_grad()\n",
    "\n",
    "        # forward + loss\n",
    "        pred = model(batch)\n",
    "        loss = LOSS_OP(pred, batch.y)\n",
    "\n",
    "        # If you try the Soft Dice Score, use this(even if the loss stays constant)\n",
    "        #loss.requires_grad = True\n",
    "        #loss = torch.tensor(loss.item(), requires_grad=True)\n",
    "\n",
    "        # backward + optimize\n",
    "        # loss * _train_batch_size(8)\n",
    "        total_loss += loss.item() * batch.num_graphs\n",
    "        print(total_loss, loss.item())\n",
    "        loss.backward()\n",
    "        OPTIMIZER.step()\n",
    "\n",
    "    # average loss = total_loss / training graps(256)\n",
    "    average_loss = total_loss / len(train_loader.dataset)\n",
    "    return average_loss\n",
    "\n",
    "#loss = train()\n",
    "#print(\"Train loss, debug: \", loss)"
   ]
  },
  {
   "cell_type": "code",
   "execution_count": 14,
   "id": "d90db9aa-dde8-4e5e-aae6-f311d13bf601",
   "metadata": {},
   "outputs": [
    {
     "data": {
      "text/plain": [
       "'\\ntrain_count = 0\\nfor batch in train_loader:\\n    for i in range(batch.y.shape[0]):\\n        if batch.y[i] > 2:\\n            train_count += 1\\nprint(train_count)\\n\\nval_count = 0\\nfor batch in val_loader:\\n    for i in range(batch.y.shape[0]):\\n        if batch.y[i] > 2:\\n            val_count += 1\\nprint(val_count)\\n\\ntest_count = 0\\nfor batch in test_loader:\\n    for i in range(batch.y.shape[0]):\\n        if batch.y[i] > 2:\\n            test_count += 1\\nprint(test_count)\\n'"
      ]
     },
     "execution_count": 14,
     "metadata": {},
     "output_type": "execute_result"
    }
   ],
   "source": [
    "'''\n",
    "train_count = 0\n",
    "for batch in train_loader:\n",
    "    for i in range(batch.y.shape[0]):\n",
    "        if batch.y[i] > 2:\n",
    "            train_count += 1\n",
    "print(train_count)\n",
    "\n",
    "val_count = 0\n",
    "for batch in val_loader:\n",
    "    for i in range(batch.y.shape[0]):\n",
    "        if batch.y[i] > 2:\n",
    "            val_count += 1\n",
    "print(val_count)\n",
    "\n",
    "test_count = 0\n",
    "for batch in test_loader:\n",
    "    for i in range(batch.y.shape[0]):\n",
    "        if batch.y[i] > 2:\n",
    "            test_count += 1\n",
    "print(test_count)\n",
    "'''"
   ]
  },
  {
   "cell_type": "code",
   "execution_count": 15,
   "id": "87361768-7bed-4fd2-aae2-feaf90c9c169",
   "metadata": {
    "tags": []
   },
   "outputs": [
    {
     "name": "stdout",
     "output_type": "stream",
     "text": [
      "tensor(1)\n",
      "tensor(0)\n"
     ]
    }
   ],
   "source": [
    "batch = next(iter(test_loader))\n",
    "print(batch.y[1818])\n",
    "print(batch.y[4681])"
   ]
  },
  {
   "cell_type": "markdown",
   "id": "f191eccf-0b3e-4e2f-9eb8-d0b68e2f5aa8",
   "metadata": {},
   "source": [
    "### Evaluation function"
   ]
  },
  {
   "cell_type": "code",
   "execution_count": 16,
   "id": "c067d1ee-f24b-41e5-8fd4-6de0f9546ec1",
   "metadata": {
    "tags": []
   },
   "outputs": [],
   "source": [
    "@torch.no_grad()\n",
    "def evaluate(loader):\n",
    "    model.eval()\n",
    "    total_loss = 0\n",
    "\n",
    "    for batch in loader:\n",
    "        batch = batch.to(DEVICE)\n",
    "\n",
    "        # forward + loss\n",
    "        pred = model(batch)\n",
    "        loss = LOSS_OP(pred, batch.y)\n",
    "\n",
    "        total_loss += loss.item() * batch.num_graphs\n",
    "    \n",
    "    total_loss = total_loss / len(loader.dataset)\n",
    "    return total_loss"
   ]
  },
  {
   "cell_type": "markdown",
   "id": "2f2c0bd0-d87d-407a-a00f-c3b1baeb6075",
   "metadata": {
    "tags": []
   },
   "source": [
    "### Computation time check"
   ]
  },
  {
   "cell_type": "code",
   "execution_count": 18,
   "id": "bb5fb713-fda3-40bd-b729-be63ec773546",
   "metadata": {
    "tags": []
   },
   "outputs": [
    {
     "name": "stdout",
     "output_type": "stream",
     "text": [
      "  ---  Computation before training finished!  ---  4.403 seconds.\n"
     ]
    }
   ],
   "source": [
    "time_func.stop_time(TIMESTAMP, \"Computation before training finished!\")"
   ]
  },
  {
   "cell_type": "code",
   "execution_count": null,
   "id": "b7d79797-d27a-4633-a16f-c0c43bd94fa2",
   "metadata": {},
   "outputs": [],
   "source": []
  }
 ],
 "metadata": {
  "kernelspec": {
   "display_name": "eddy-tracking",
   "language": "python",
   "name": "eddy-tracking"
  },
  "language_info": {
   "codemirror_mode": {
    "name": "ipython",
    "version": 3
   },
   "file_extension": ".py",
   "mimetype": "text/x-python",
   "name": "python",
   "nbconvert_exporter": "python",
   "pygments_lexer": "ipython3",
   "version": "3.8.17"
  }
 },
 "nbformat": 4,
 "nbformat_minor": 5
}
