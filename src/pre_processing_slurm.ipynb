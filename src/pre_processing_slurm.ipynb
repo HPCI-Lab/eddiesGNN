{
 "cells": [
  {
   "cell_type": "code",
   "execution_count": 1,
   "id": "bc6a1738-62d2-4c19-883b-144041e8d334",
   "metadata": {},
   "outputs": [],
   "source": [
    "import matplotlib.cm as cm\n",
    "import matplotlib.pyplot as plt\n",
    "from matplotlib import collections as mc\n",
    "import numpy as np\n",
    "import os\n",
    "import pylab as pl\n",
    "from scipy.spatial import cKDTree\n",
    "import sys\n",
    "import xarray as xr\n",
    "import yaml"
   ]
  },
  {
   "cell_type": "markdown",
   "id": "122fbc16-eb4f-4338-bf79-ab25a5b917dd",
   "metadata": {},
   "source": [
    "### Files paths"
   ]
  },
  {
   "cell_type": "code",
   "execution_count": 2,
   "id": "9ef4ce57-f683-4f8a-bc50-ed2300dc1692",
   "metadata": {},
   "outputs": [],
   "source": [
    "yaml_file = './config.yaml'\n",
    "params = yaml.safe_load(open(yaml_file))\n",
    "\n",
    "INPUT_GRID = params['input_grid_nc']\n",
    "INPUT_PATH_SSH_FILTERED = params['input_path_data_filtered']\n",
    "INPUT_PATH_SEG_MASKS = params['input_path_data_seg_masks']\n",
    "\n",
    "OUTPUT_SUBSET_PRE_PROCESSED = params['output_subset_pre_processed']\n",
    "\n",
    "# TODO: for every path in SSH, read the file\n",
    "# concatenate them, or read them with open_mfdataset()"
   ]
  },
  {
   "cell_type": "markdown",
   "id": "cf607dd5-0280-481c-8a79-60e7f0b020b6",
   "metadata": {},
   "source": [
    "### Reduce the mesh to a subset"
   ]
  },
  {
   "cell_type": "code",
   "execution_count": 3,
   "id": "3dddc1e4-5947-47fd-8af8-f47597064c9a",
   "metadata": {},
   "outputs": [
    {
     "name": "stdout",
     "output_type": "stream",
     "text": [
      "<xarray.Dataset>\n",
      "Dimensions:  (nod2: 8852366, nodes_subset: 757747, edges_subset: 2268763, n2: 2)\n",
      "Dimensions without coordinates: nod2, nodes_subset, edges_subset, n2\n",
      "Data variables:\n",
      "    lon      (nod2) float64 -177.4 -177.2 -177.3 -177.3 ... 178.4 178.4 178.3\n",
      "    lat      (nod2) float64 -78.05 -78.05 -78.08 -78.02 ... -77.85 -77.82 -77.85\n",
      "    nodes    (nodes_subset) int32 1035320 1035324 1035345 ... 7853535 7853537\n",
      "    edges    (edges_subset, n2) int32 1035320 1035378 ... 7106912 7106914\n"
     ]
    }
   ],
   "source": [
    "data_mesh = xr.open_dataset(INPUT_GRID, engine='netcdf4')\n",
    "\n",
    "# Deletion of useless fields\n",
    "vars_keys = data_mesh.data_vars\n",
    "for key in vars_keys:\n",
    "    if key != 'lat' and key != 'lon' and key != 'edges' and key != 'nodes':\n",
    "        data_mesh = data_mesh.drop_vars(key)\n",
    "\n",
    "data_mesh = data_mesh.drop_vars('nz')\n",
    "data_mesh = data_mesh.drop_vars('nz1')\n",
    "\n",
    "# RoI definition\n",
    "model_lon = data_mesh.lon.values\n",
    "model_lat = data_mesh.lat.values\n",
    "left = params['input_left']\n",
    "right = params['input_right']\n",
    "bottom = params['input_bottom']\n",
    "top = params['input_top']\n",
    "region_mask = (model_lon > left) & (model_lon < right) & (model_lat < top) & (model_lat > bottom)\n",
    "\n",
    "# RoI: edges extraction\n",
    "edge_0 = data_mesh.edges[0].values\n",
    "edge_1 = data_mesh.edges[1].values\n",
    "edge_0 -= 1\n",
    "edge_1 -= 1\n",
    "\n",
    "edges_subset = []\n",
    "for i in range(len(edge_0)):\n",
    "    if region_mask[edge_0[i]] & region_mask[edge_1[i]]:\n",
    "        edges_subset.append([edge_0[i], edge_1[i]])\n",
    "\n",
    "edges_subset = np.array(edges_subset, dtype=\"int32\")\n",
    "data_mesh = data_mesh.drop_vars('edges')\n",
    "data_mesh['edges'] = (('edges_subset', 'n2'), edges_subset)\n",
    "\n",
    "# Nodes extraction\n",
    "nodes_subset = []\n",
    "for i in range(len(region_mask)):\n",
    "    if region_mask[i]:\n",
    "        nodes_subset.append(i)\n",
    "\n",
    "nodes_subset = np.array(nodes_subset, dtype=\"int32\")\n",
    "data_mesh['nodes'] =(('nodes_subset'), nodes_subset)\n",
    "\n",
    "print(data_mesh)"
   ]
  },
  {
   "cell_type": "markdown",
   "id": "8ce58fb6-6929-445d-a48d-b423d6ebd4f0",
   "metadata": {},
   "source": [
    "### Interpolation of SSH and segmentation mask to the unstructured subset grid"
   ]
  },
  {
   "cell_type": "markdown",
   "id": "6e6465f6-4220-452d-8899-0434abeb0928",
   "metadata": {},
   "source": [
    "#### First, some helper functions from https://github.com/nextGEMS/nextGEMS_Cycle3/blob/main/FESOM/STARTHERE_FESOM.ipynb"
   ]
  },
  {
   "cell_type": "code",
   "execution_count": 4,
   "id": "39124565-4a27-4b29-900a-4c64b8b05485",
   "metadata": {},
   "outputs": [],
   "source": [
    "def lon_lat_to_cartesian(lon, lat, R=6371000):\n",
    "    \n",
    "    lon_r = np.radians(lon)\n",
    "    lat_r = np.radians(lat)\n",
    "\n",
    "    x = R * np.cos(lat_r) * np.cos(lon_r)\n",
    "    y = R * np.cos(lat_r) * np.sin(lon_r)\n",
    "    z = R * np.sin(lat_r)\n",
    "    return x, y, z"
   ]
  },
  {
   "cell_type": "code",
   "execution_count": 5,
   "id": "b5bd9d95-4225-45aa-8028-a5836964bb98",
   "metadata": {},
   "outputs": [],
   "source": [
    "def create_indexes_and_distances(model_lon, model_lat, lons, lats, k=1, workers=2):\n",
    "    \n",
    "    xs, ys, zs = lon_lat_to_cartesian(lons.flatten(), lats.flatten())\n",
    "    xt, yt, zt = lon_lat_to_cartesian(model_lon, model_lat)\n",
    "\n",
    "    tree = cKDTree(list(zip(xs, ys, zs)))\n",
    "    distances, inds = tree.query(list(zip(xt, yt, zt)), k=k, workers=workers)\n",
    "\n",
    "    return distances, inds"
   ]
  },
  {
   "cell_type": "markdown",
   "id": "2da60fb6-226b-45a7-a329-754cedaa1a12",
   "metadata": {},
   "source": [
    "### The actual interpolation process"
   ]
  },
  {
   "cell_type": "code",
   "execution_count": 6,
   "id": "7cebb569-bf6f-4e89-b86a-09070f6b7fdc",
   "metadata": {
    "tags": []
   },
   "outputs": [
    {
     "name": "stdout",
     "output_type": "stream",
     "text": [
      "-1.8223326206207275 1.3817895650863647 2.996811811857859 9859.58150920928\n",
      "<xarray.Dataset>\n",
      "Dimensions:    (LONGITUDE: 1200, LATITUDE: 480, TIME: 28)\n",
      "Coordinates:\n",
      "  * LONGITUDE  (LONGITUDE) float32 -70.0 -69.92 -69.83 ... 29.75 29.83 29.92\n",
      "  * LATITUDE   (LATITUDE) float32 -60.0 -59.92 -59.83 ... -20.25 -20.17 -20.08\n",
      "  * TIME       (TIME) float32 5.706e+05 5.706e+05 ... 5.712e+05 5.712e+05\n",
      "Data variables:\n",
      "    ssh        (TIME, LONGITUDE, LATITUDE) float64 -0.7358 -0.719 ... 9.969e+36\n",
      "    seg_mask   (TIME, LONGITUDE, LATITUDE) int64 0 0 0 0 0 0 0 ... 0 0 0 0 0 0 0\n"
     ]
    }
   ],
   "source": [
    "# SSH and segmentation information files\n",
    "data_files = []\n",
    "for file in os.listdir(INPUT_PATH_SEG_MASKS):\n",
    "    data_files.append(file)\n",
    "\n",
    "# Target coordinates(the unstructured FESOM mesh)\n",
    "model_lon = data_mesh.lon[data_mesh.nodes].values\n",
    "model_lat = data_mesh.lat[data_mesh.nodes].values\n",
    "\n",
    "for file in data_files:\n",
    "    month = xr.open_dataset(INPUT_PATH_SEG_MASKS + '/' + str(file))\n",
    "    \n",
    "    # Source coordinates(the SSH and segmentation masks information)\n",
    "    data_lon, data_lat = np.meshgrid(month['LONGITUDE'], month['LATITUDE'])\n",
    "    data_lon = data_lon.T\n",
    "    data_lat = data_lat.T\n",
    "    \n",
    "    for day in range(month.dims['TIME']):\n",
    "        # SSH values\n",
    "        data_ssh_values = month.ssh.values[day]\n",
    "        \n",
    "        # To avoid problems with stretched SSH values\n",
    "        data_ssh_values[np.abs(data_ssh_values) > 100] = np.nan\n",
    "        \n",
    "        # Segmentation mask\n",
    "        data_seg_mask_values = month.seg_mask.values[day]\n",
    "        \n",
    "        # Perform a K-Nearest Neighbors between matrix and mesh points\n",
    "        distances, inds = create_indexes_and_distances(model_lon, model_lat, data_lon, data_lat, k=1, workers=-1)\n",
    "        \n",
    "        flat_ssh = data_ssh_values.flatten()\n",
    "        flat_seg_mask = data_seg_mask_values.flatten()\n",
    "        \n",
    "        ssh = flat_ssh[inds]\n",
    "        seg_mask = flat_seg_mask[inds]\n",
    "        \n",
    "        # Area of influence to take care of KNN indexes crossing land\n",
    "        radius_of_influence = 10000\n",
    "        \n",
    "        ssh[distances >= radius_of_influence] = np.nan\n",
    "        ssh = np.ma.masked_invalid(ssh)\n",
    "        \n",
    "        seg_mask[distances >= radius_of_influence] = 0\n",
    "        seg_mask = np.ma.masked_invalid(seg_mask)\n",
    "        \n",
    "        print(np.min(ssh), np.max(ssh), min(distances), max(distances))\n",
    "        \n",
    "        # Store SSH and seg_mask in the subset mesh file - TODO: I might create a 'graphs_n' variable as big as the total sum of timestamps in the data, and append everything in the end(NEED RAM FOR THIS)\n",
    "        ssh = np.array(ssh, dtype=\"float64\")\n",
    "        seg_mask = np.array(seg_mask, dtype=\"float64\")\n",
    "        \n",
    "    \n",
    "        '''continue here'''\n",
    "        \n",
    "        '''\n",
    "        data_mesh['ssh'] = (('nodes_subset'), ssh)\n",
    "        data_mesh['seg_mask'] = (('nodes_subset'), seg_mask)\n",
    "        data_mesh\n",
    "        '''\n",
    "        \n",
    "        break\n",
    "    \n",
    "    print(month)\n",
    "    break"
   ]
  },
  {
   "cell_type": "code",
   "execution_count": null,
   "id": "a13f33e1-a0f6-42c9-acea-15357a7909b9",
   "metadata": {},
   "outputs": [],
   "source": []
  },
  {
   "cell_type": "markdown",
   "id": "e39ee231-214f-4067-91af-ab52b3519407",
   "metadata": {},
   "source": [
    "### Loss of information when going from structured SSH/seg_mask to unstructured"
   ]
  },
  {
   "cell_type": "code",
   "execution_count": 7,
   "id": "428839d8-c94d-4d4f-bbf6-7b182c514bee",
   "metadata": {
    "tags": []
   },
   "outputs": [
    {
     "ename": "AttributeError",
     "evalue": "'Dataset' object has no attribute 'ssh'",
     "output_type": "error",
     "traceback": [
      "\u001b[0;31m---------------------------------------------------------------------------\u001b[0m",
      "\u001b[0;31mAttributeError\u001b[0m                            Traceback (most recent call last)",
      "Cell \u001b[0;32mIn[7], line 1\u001b[0m\n\u001b[0;32m----> 1\u001b[0m not_nan_ssh \u001b[38;5;241m=\u001b[39m np\u001b[38;5;241m.\u001b[39mcount_nonzero(\u001b[38;5;241m~\u001b[39mnp\u001b[38;5;241m.\u001b[39misnan(\u001b[43mdata_mesh\u001b[49m\u001b[38;5;241;43m.\u001b[39;49m\u001b[43mssh\u001b[49m\u001b[38;5;241m.\u001b[39mvalues))\n\u001b[1;32m      2\u001b[0m not_nan_ssh_actual_proportion \u001b[38;5;241m=\u001b[39m not_nan_ssh\u001b[38;5;241m*\u001b[39m\u001b[38;5;241m100\u001b[39m\u001b[38;5;241m/\u001b[39mdata_mesh\u001b[38;5;241m.\u001b[39mdims[\u001b[38;5;124m'\u001b[39m\u001b[38;5;124mnodes_subset\u001b[39m\u001b[38;5;124m'\u001b[39m]\n\u001b[1;32m      4\u001b[0m \u001b[38;5;28mprint\u001b[39m(\u001b[38;5;124mf\u001b[39m\u001b[38;5;124m\"\u001b[39m\u001b[38;5;124mNodes with initial SSH data:\u001b[39m\u001b[38;5;130;01m\\t\u001b[39;00m\u001b[38;5;130;01m\\t\u001b[39;00m\u001b[38;5;130;01m\\t\u001b[39;00m\u001b[38;5;130;01m\\t\u001b[39;00m\u001b[38;5;132;01m{\u001b[39;00mdata_mesh\u001b[38;5;241m.\u001b[39mdims[\u001b[38;5;124m'\u001b[39m\u001b[38;5;124mnodes_subset\u001b[39m\u001b[38;5;124m'\u001b[39m]\u001b[38;5;132;01m}\u001b[39;00m\u001b[38;5;124m\"\u001b[39m)\n",
      "File \u001b[0;32m~/miniconda3/envs/eddy-tracking/lib/python3.8/site-packages/xarray/core/common.py:278\u001b[0m, in \u001b[0;36mAttrAccessMixin.__getattr__\u001b[0;34m(self, name)\u001b[0m\n\u001b[1;32m    276\u001b[0m         \u001b[38;5;28;01mwith\u001b[39;00m suppress(\u001b[38;5;167;01mKeyError\u001b[39;00m):\n\u001b[1;32m    277\u001b[0m             \u001b[38;5;28;01mreturn\u001b[39;00m source[name]\n\u001b[0;32m--> 278\u001b[0m \u001b[38;5;28;01mraise\u001b[39;00m \u001b[38;5;167;01mAttributeError\u001b[39;00m(\n\u001b[1;32m    279\u001b[0m     \u001b[38;5;124mf\u001b[39m\u001b[38;5;124m\"\u001b[39m\u001b[38;5;132;01m{\u001b[39;00m\u001b[38;5;28mtype\u001b[39m(\u001b[38;5;28mself\u001b[39m)\u001b[38;5;241m.\u001b[39m\u001b[38;5;18m__name__\u001b[39m\u001b[38;5;132;01m!r}\u001b[39;00m\u001b[38;5;124m object has no attribute \u001b[39m\u001b[38;5;132;01m{\u001b[39;00mname\u001b[38;5;132;01m!r}\u001b[39;00m\u001b[38;5;124m\"\u001b[39m\n\u001b[1;32m    280\u001b[0m )\n",
      "\u001b[0;31mAttributeError\u001b[0m: 'Dataset' object has no attribute 'ssh'"
     ]
    }
   ],
   "source": [
    "not_nan_ssh = np.count_nonzero(~np.isnan(data_mesh.ssh.values))\n",
    "not_nan_ssh_actual_proportion = not_nan_ssh*100/data_mesh.dims['nodes_subset']\n",
    "\n",
    "print(f\"Nodes with initial SSH data:\\t\\t\\t\\t{data_mesh.dims['nodes_subset']}\")\n",
    "print(f\"Nodes with SSH/seg_mask data after pre-processing:\\t{not_nan_ssh}\")\n",
    "print(f\"Actual % of SSH/seg_mask info after pre-processing:\\t {not_nan_ssh_actual_proportion:.3f}%\")"
   ]
  },
  {
   "cell_type": "markdown",
   "id": "1ef2ce95-7a35-4807-90d2-d1edf9243cac",
   "metadata": {},
   "source": [
    "### Group of plots to understand where we started and where we got"
   ]
  },
  {
   "cell_type": "code",
   "execution_count": null,
   "id": "3696ef7d-78cf-46ac-8951-d101c80e80c3",
   "metadata": {
    "tags": []
   },
   "outputs": [],
   "source": [
    "model_lon_roi = data_mesh.lon[data_mesh.nodes].values\n",
    "model_lat_roi = data_mesh.lat[data_mesh.nodes].values\n",
    "uns_ssh = data_mesh.ssh.values\n",
    "str_ssh = month.ssh.values[0]\n",
    "uns_seg_mask = data_mesh.seg_mask.values\n",
    "str_seg_mask = month.seg_mask.values[0]\n",
    "\n",
    "fig, axes = plt.subplots(2, 2, figsize=(18, 9))\n",
    "\n",
    "im = axes[0][0].imshow(np.flipud(str_ssh.T), cmap=cm.seismic, vmin=-1, vmax=1)\n",
    "axes[0][0].set_title(\"SSH(SLA) values after the interpolation to regular grid\")\n",
    "cb = plt.colorbar(im, orientation='horizontal', pad=0.1, ax=axes[0][0])\n",
    "\n",
    "im2 = axes[0][1].imshow(np.flipud(str_seg_mask.T), cmap=cm.viridis, vmin=0, vmax=2)\n",
    "axes[0][1].set_title(\"Segmentation mask\")\n",
    "cb = plt.colorbar(im2, orientation='horizontal', pad=0.1, ax=axes[0][1])\n",
    "\n",
    "im3 = axes[1][0].scatter(model_lon_roi, model_lat_roi, c=uns_ssh, s=0.1, cmap=cm.seismic, vmin=-1, vmax=1)\n",
    "axes[1][0].set_title(f\"The remaining nodes with SSH data after the interpolation to unstructured mesh\")\n",
    "plt.colorbar(im3, orientation='horizontal', pad=0.1, ax=axes[1][0])\n",
    "\n",
    "im4 = axes[1][1].scatter(model_lon_roi, model_lat_roi, c=uns_seg_mask, s=0.1, cmap=cm.viridis, vmin=0, vmax=2)\n",
    "axes[1][1].set_title(f\"The remaining nodes with seg_mask data after the interpolation to unstructured mesh\")\n",
    "plt.colorbar(im4, orientation='horizontal', pad=0.1, ax=axes[1][1])\n",
    "\n",
    "#plt.close()"
   ]
  },
  {
   "cell_type": "code",
   "execution_count": null,
   "id": "63a29463-9abe-4194-a74a-781d07d68a46",
   "metadata": {},
   "outputs": [],
   "source": []
  }
 ],
 "metadata": {
  "kernelspec": {
   "display_name": "eddy-tracking",
   "language": "python",
   "name": "eddy-tracking"
  },
  "language_info": {
   "codemirror_mode": {
    "name": "ipython",
    "version": 3
   },
   "file_extension": ".py",
   "mimetype": "text/x-python",
   "name": "python",
   "nbconvert_exporter": "python",
   "pygments_lexer": "ipython3",
   "version": "3.8.17"
  }
 },
 "nbformat": 4,
 "nbformat_minor": 5
}
